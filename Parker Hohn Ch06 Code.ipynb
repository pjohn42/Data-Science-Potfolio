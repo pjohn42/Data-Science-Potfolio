{
 "cells": [
  {
   "cell_type": "markdown",
   "id": "62e15e9b-06ad-43d3-927f-7201df33da92",
   "metadata": {},
   "source": [
    "# Chapter 6: Multiple Linear Regression"
   ]
  },
  {
   "cell_type": "markdown",
   "id": "d5a7eca0-7239-44eb-92c1-06b975a1ea9f",
   "metadata": {},
   "source": [
    "## Import Required Packages"
   ]
  },
  {
   "cell_type": "code",
   "execution_count": 6,
   "id": "293ed873-8f08-4f61-94fb-3daf03d75665",
   "metadata": {
    "executionCancelledAt": null,
    "executionTime": 5147,
    "lastExecutedAt": 1698607035338,
    "lastScheduledRunId": null,
    "lastSuccessfullyExecutedCode": "!pip install dmba",
    "outputsMetadata": {
     "0": {
      "height": 616,
      "type": "stream"
     }
    }
   },
   "outputs": [
    {
     "name": "stdout",
     "output_type": "stream",
     "text": [
      "Requirement already satisfied: dmba in c:\\users\\orlan\\onedrive\\desktop\\lib\\site-packages (0.2.4)\n",
      "Requirement already satisfied: graphviz in c:\\users\\orlan\\onedrive\\desktop\\lib\\site-packages (from dmba) (0.20.3)\n",
      "Requirement already satisfied: matplotlib in c:\\users\\orlan\\onedrive\\desktop\\lib\\site-packages (from dmba) (3.8.3)\n",
      "Requirement already satisfied: numpy in c:\\users\\orlan\\onedrive\\desktop\\lib\\site-packages (from dmba) (1.26.4)\n",
      "Requirement already satisfied: pandas in c:\\users\\orlan\\onedrive\\desktop\\lib\\site-packages (from dmba) (2.2.1)\n",
      "Requirement already satisfied: scikit-learn in c:\\users\\orlan\\onedrive\\desktop\\lib\\site-packages (from dmba) (1.4.2)\n",
      "Requirement already satisfied: scipy in c:\\users\\orlan\\onedrive\\desktop\\lib\\site-packages (from dmba) (1.13.0)\n",
      "Requirement already satisfied: contourpy>=1.0.1 in c:\\users\\orlan\\onedrive\\desktop\\lib\\site-packages (from matplotlib->dmba) (1.2.0)\n",
      "Requirement already satisfied: cycler>=0.10 in c:\\users\\orlan\\onedrive\\desktop\\lib\\site-packages (from matplotlib->dmba) (0.12.1)\n",
      "Requirement already satisfied: fonttools>=4.22.0 in c:\\users\\orlan\\onedrive\\desktop\\lib\\site-packages (from matplotlib->dmba) (4.49.0)\n",
      "Requirement already satisfied: kiwisolver>=1.3.1 in c:\\users\\orlan\\onedrive\\desktop\\lib\\site-packages (from matplotlib->dmba) (1.4.5)\n",
      "Requirement already satisfied: packaging>=20.0 in c:\\users\\orlan\\onedrive\\desktop\\lib\\site-packages (from matplotlib->dmba) (23.2)\n",
      "Requirement already satisfied: pillow>=8 in c:\\users\\orlan\\onedrive\\desktop\\lib\\site-packages (from matplotlib->dmba) (10.2.0)\n",
      "Requirement already satisfied: pyparsing>=2.3.1 in c:\\users\\orlan\\onedrive\\desktop\\lib\\site-packages (from matplotlib->dmba) (3.1.2)\n",
      "Requirement already satisfied: python-dateutil>=2.7 in c:\\users\\orlan\\onedrive\\desktop\\lib\\site-packages (from matplotlib->dmba) (2.8.2)\n",
      "Requirement already satisfied: pytz>=2020.1 in c:\\users\\orlan\\onedrive\\desktop\\lib\\site-packages (from pandas->dmba) (2024.1)\n",
      "Requirement already satisfied: tzdata>=2022.7 in c:\\users\\orlan\\onedrive\\desktop\\lib\\site-packages (from pandas->dmba) (2024.1)\n",
      "Requirement already satisfied: joblib>=1.2.0 in c:\\users\\orlan\\onedrive\\desktop\\lib\\site-packages (from scikit-learn->dmba) (1.4.2)\n",
      "Requirement already satisfied: threadpoolctl>=2.0.0 in c:\\users\\orlan\\onedrive\\desktop\\lib\\site-packages (from scikit-learn->dmba) (3.5.0)\n",
      "Requirement already satisfied: six>=1.5 in c:\\users\\orlan\\onedrive\\desktop\\lib\\site-packages (from python-dateutil>=2.7->matplotlib->dmba) (1.16.0)\n"
     ]
    }
   ],
   "source": [
    "!pip install dmba"
   ]
  },
  {
   "cell_type": "code",
   "execution_count": 7,
   "id": "6e49a3f7-3638-4baa-b33c-08c491727939",
   "metadata": {
    "executionCancelledAt": null,
    "executionTime": 11,
    "lastExecutedAt": 1698697603217,
    "lastScheduledRunId": null,
    "lastSuccessfullyExecutedCode": "# import necessary packages\n\nimport pandas as pd\n\nfrom sklearn.model_selection import train_test_split\nfrom sklearn.linear_model import LinearRegression, Lasso, Ridge\nfrom sklearn.preprocessing import StandardScaler\n\nfrom dmba import regressionSummary",
    "outputsMetadata": {
     "0": {
      "height": 36,
      "type": "stream"
     }
    }
   },
   "outputs": [],
   "source": [
    "# import necessary packages\n",
    "\n",
    "import pandas as pd\n",
    "\n",
    "from sklearn.model_selection import train_test_split\n",
    "from sklearn.linear_model import LinearRegression, Lasso, Ridge\n",
    "from sklearn.preprocessing import StandardScaler\n",
    "\n",
    "from dmba import regressionSummary"
   ]
  },
  {
   "cell_type": "markdown",
   "id": "144ea531-9053-4705-89d7-4f2c9a086d21",
   "metadata": {},
   "source": [
    "## Multiple Linear Regression"
   ]
  },
  {
   "cell_type": "code",
   "execution_count": 8,
   "id": "585c4e4e-4397-4c49-abaf-c5fe570bd51b",
   "metadata": {
    "executionCancelledAt": null,
    "executionTime": 24,
    "lastExecutedAt": 1698697683791,
    "lastScheduledRunId": null,
    "lastSuccessfullyExecutedCode": "# load data, 'ToyotaCorolla.csv'\n# define car_df\n\ncar_df = pd.read_csv('ToyotaCorolla.csv')"
   },
   "outputs": [],
   "source": [
    "# load data, 'ToyotaCorolla.csv'\n",
    "# define car_df\n",
    "\n",
    "car_df = pd.read_csv('ToyotaCorolla.csv')"
   ]
  },
  {
   "cell_type": "code",
   "execution_count": 9,
   "id": "83810449-bb8f-4643-ba7a-a82b368d0cc1",
   "metadata": {
    "executionCancelledAt": null,
    "executionTime": null,
    "lastExecutedAt": null,
    "lastScheduledRunId": null,
    "lastSuccessfullyExecutedCode": null,
    "outputsMetadata": {
     "0": {
      "height": 191,
      "type": "dataFrame"
     }
    }
   },
   "outputs": [
    {
     "data": {
      "text/html": [
       "<div>\n",
       "<style scoped>\n",
       "    .dataframe tbody tr th:only-of-type {\n",
       "        vertical-align: middle;\n",
       "    }\n",
       "\n",
       "    .dataframe tbody tr th {\n",
       "        vertical-align: top;\n",
       "    }\n",
       "\n",
       "    .dataframe thead th {\n",
       "        text-align: right;\n",
       "    }\n",
       "</style>\n",
       "<table border=\"1\" class=\"dataframe\">\n",
       "  <thead>\n",
       "    <tr style=\"text-align: right;\">\n",
       "      <th></th>\n",
       "      <th>Id</th>\n",
       "      <th>Model</th>\n",
       "      <th>Price</th>\n",
       "      <th>Age_08_04</th>\n",
       "      <th>Mfg_Month</th>\n",
       "      <th>Mfg_Year</th>\n",
       "      <th>KM</th>\n",
       "      <th>Fuel_Type</th>\n",
       "      <th>HP</th>\n",
       "      <th>Met_Color</th>\n",
       "      <th>...</th>\n",
       "      <th>Powered_Windows</th>\n",
       "      <th>Power_Steering</th>\n",
       "      <th>Radio</th>\n",
       "      <th>Mistlamps</th>\n",
       "      <th>Sport_Model</th>\n",
       "      <th>Backseat_Divider</th>\n",
       "      <th>Metallic_Rim</th>\n",
       "      <th>Radio_cassette</th>\n",
       "      <th>Parking_Assistant</th>\n",
       "      <th>Tow_Bar</th>\n",
       "    </tr>\n",
       "  </thead>\n",
       "  <tbody>\n",
       "    <tr>\n",
       "      <th>0</th>\n",
       "      <td>1</td>\n",
       "      <td>TOYOTA Corolla 2.0 D4D HATCHB TERRA 2/3-Doors</td>\n",
       "      <td>13500</td>\n",
       "      <td>23</td>\n",
       "      <td>10</td>\n",
       "      <td>2002</td>\n",
       "      <td>46986</td>\n",
       "      <td>Diesel</td>\n",
       "      <td>90</td>\n",
       "      <td>1</td>\n",
       "      <td>...</td>\n",
       "      <td>1</td>\n",
       "      <td>1</td>\n",
       "      <td>0</td>\n",
       "      <td>0</td>\n",
       "      <td>0</td>\n",
       "      <td>1</td>\n",
       "      <td>0</td>\n",
       "      <td>0</td>\n",
       "      <td>0</td>\n",
       "      <td>0</td>\n",
       "    </tr>\n",
       "    <tr>\n",
       "      <th>1</th>\n",
       "      <td>2</td>\n",
       "      <td>TOYOTA Corolla 2.0 D4D HATCHB TERRA 2/3-Doors</td>\n",
       "      <td>13750</td>\n",
       "      <td>23</td>\n",
       "      <td>10</td>\n",
       "      <td>2002</td>\n",
       "      <td>72937</td>\n",
       "      <td>Diesel</td>\n",
       "      <td>90</td>\n",
       "      <td>1</td>\n",
       "      <td>...</td>\n",
       "      <td>0</td>\n",
       "      <td>1</td>\n",
       "      <td>0</td>\n",
       "      <td>0</td>\n",
       "      <td>0</td>\n",
       "      <td>1</td>\n",
       "      <td>0</td>\n",
       "      <td>0</td>\n",
       "      <td>0</td>\n",
       "      <td>0</td>\n",
       "    </tr>\n",
       "    <tr>\n",
       "      <th>2</th>\n",
       "      <td>3</td>\n",
       "      <td>TOYOTA Corolla 2.0 D4D HATCHB TERRA 2/3-Doors</td>\n",
       "      <td>13950</td>\n",
       "      <td>24</td>\n",
       "      <td>9</td>\n",
       "      <td>2002</td>\n",
       "      <td>41711</td>\n",
       "      <td>Diesel</td>\n",
       "      <td>90</td>\n",
       "      <td>1</td>\n",
       "      <td>...</td>\n",
       "      <td>0</td>\n",
       "      <td>1</td>\n",
       "      <td>0</td>\n",
       "      <td>0</td>\n",
       "      <td>0</td>\n",
       "      <td>1</td>\n",
       "      <td>0</td>\n",
       "      <td>0</td>\n",
       "      <td>0</td>\n",
       "      <td>0</td>\n",
       "    </tr>\n",
       "    <tr>\n",
       "      <th>3</th>\n",
       "      <td>4</td>\n",
       "      <td>TOYOTA Corolla 2.0 D4D HATCHB TERRA 2/3-Doors</td>\n",
       "      <td>14950</td>\n",
       "      <td>26</td>\n",
       "      <td>7</td>\n",
       "      <td>2002</td>\n",
       "      <td>48000</td>\n",
       "      <td>Diesel</td>\n",
       "      <td>90</td>\n",
       "      <td>0</td>\n",
       "      <td>...</td>\n",
       "      <td>0</td>\n",
       "      <td>1</td>\n",
       "      <td>0</td>\n",
       "      <td>0</td>\n",
       "      <td>0</td>\n",
       "      <td>1</td>\n",
       "      <td>0</td>\n",
       "      <td>0</td>\n",
       "      <td>0</td>\n",
       "      <td>0</td>\n",
       "    </tr>\n",
       "    <tr>\n",
       "      <th>4</th>\n",
       "      <td>5</td>\n",
       "      <td>TOYOTA Corolla 2.0 D4D HATCHB SOL 2/3-Doors</td>\n",
       "      <td>13750</td>\n",
       "      <td>30</td>\n",
       "      <td>3</td>\n",
       "      <td>2002</td>\n",
       "      <td>38500</td>\n",
       "      <td>Diesel</td>\n",
       "      <td>90</td>\n",
       "      <td>0</td>\n",
       "      <td>...</td>\n",
       "      <td>1</td>\n",
       "      <td>1</td>\n",
       "      <td>0</td>\n",
       "      <td>1</td>\n",
       "      <td>0</td>\n",
       "      <td>1</td>\n",
       "      <td>0</td>\n",
       "      <td>0</td>\n",
       "      <td>0</td>\n",
       "      <td>0</td>\n",
       "    </tr>\n",
       "  </tbody>\n",
       "</table>\n",
       "<p>5 rows × 39 columns</p>\n",
       "</div>"
      ],
      "text/plain": [
       "   Id                                          Model  Price  Age_08_04  \\\n",
       "0   1  TOYOTA Corolla 2.0 D4D HATCHB TERRA 2/3-Doors  13500         23   \n",
       "1   2  TOYOTA Corolla 2.0 D4D HATCHB TERRA 2/3-Doors  13750         23   \n",
       "2   3  TOYOTA Corolla 2.0 D4D HATCHB TERRA 2/3-Doors  13950         24   \n",
       "3   4  TOYOTA Corolla 2.0 D4D HATCHB TERRA 2/3-Doors  14950         26   \n",
       "4   5    TOYOTA Corolla 2.0 D4D HATCHB SOL 2/3-Doors  13750         30   \n",
       "\n",
       "   Mfg_Month  Mfg_Year     KM Fuel_Type  HP  Met_Color  ... Powered_Windows  \\\n",
       "0         10      2002  46986    Diesel  90          1  ...               1   \n",
       "1         10      2002  72937    Diesel  90          1  ...               0   \n",
       "2          9      2002  41711    Diesel  90          1  ...               0   \n",
       "3          7      2002  48000    Diesel  90          0  ...               0   \n",
       "4          3      2002  38500    Diesel  90          0  ...               1   \n",
       "\n",
       "   Power_Steering  Radio  Mistlamps  Sport_Model  Backseat_Divider  \\\n",
       "0               1      0          0            0                 1   \n",
       "1               1      0          0            0                 1   \n",
       "2               1      0          0            0                 1   \n",
       "3               1      0          0            0                 1   \n",
       "4               1      0          1            0                 1   \n",
       "\n",
       "   Metallic_Rim  Radio_cassette  Parking_Assistant  Tow_Bar  \n",
       "0             0               0                  0        0  \n",
       "1             0               0                  0        0  \n",
       "2             0               0                  0        0  \n",
       "3             0               0                  0        0  \n",
       "4             0               0                  0        0  \n",
       "\n",
       "[5 rows x 39 columns]"
      ]
     },
     "execution_count": 9,
     "metadata": {},
     "output_type": "execute_result"
    }
   ],
   "source": [
    "# preview\n",
    "\n",
    "car_df.head()"
   ]
  },
  {
   "cell_type": "code",
   "execution_count": 10,
   "id": "38757891-8625-4c96-a2d3-febe5d10073a",
   "metadata": {
    "executionCancelledAt": null,
    "executionTime": 12,
    "lastExecutedAt": 1698697726077,
    "lastScheduledRunId": null,
    "lastSuccessfullyExecutedCode": "# shape\n\ncar_df.shape"
   },
   "outputs": [
    {
     "data": {
      "text/plain": [
       "(1436, 39)"
      ]
     },
     "execution_count": 10,
     "metadata": {},
     "output_type": "execute_result"
    }
   ],
   "source": [
    "# shape\n",
    "\n",
    "car_df.shape"
   ]
  },
  {
   "cell_type": "code",
   "execution_count": 11,
   "id": "19debee8-d0eb-4334-828a-e1077ff8040d",
   "metadata": {
    "executionCancelledAt": null,
    "executionTime": 13,
    "lastExecutedAt": 1698697753899,
    "lastScheduledRunId": null,
    "lastSuccessfullyExecutedCode": "# columns\n\ncar_df.columns",
    "outputsMetadata": {
     "0": {
      "height": 310,
      "type": "dataFrame"
     }
    }
   },
   "outputs": [
    {
     "data": {
      "text/plain": [
       "Index(['Id', 'Model', 'Price', 'Age_08_04', 'Mfg_Month', 'Mfg_Year', 'KM',\n",
       "       'Fuel_Type', 'HP', 'Met_Color', 'Color', 'Automatic', 'CC', 'Doors',\n",
       "       'Cylinders', 'Gears', 'Quarterly_Tax', 'Weight', 'Mfr_Guarantee',\n",
       "       'BOVAG_Guarantee', 'Guarantee_Period', 'ABS', 'Airbag_1', 'Airbag_2',\n",
       "       'Airco', 'Automatic_airco', 'Boardcomputer', 'CD_Player',\n",
       "       'Central_Lock', 'Powered_Windows', 'Power_Steering', 'Radio',\n",
       "       'Mistlamps', 'Sport_Model', 'Backseat_Divider', 'Metallic_Rim',\n",
       "       'Radio_cassette', 'Parking_Assistant', 'Tow_Bar'],\n",
       "      dtype='object')"
      ]
     },
     "execution_count": 11,
     "metadata": {},
     "output_type": "execute_result"
    }
   ],
   "source": [
    "# columns\n",
    "\n",
    "car_df.columns"
   ]
  },
  {
   "cell_type": "code",
   "execution_count": 15,
   "id": "271b269d-7210-43ce-b5c7-a1f84ffcf668",
   "metadata": {
    "executionCancelledAt": null,
    "executionTime": null,
    "lastExecutedAt": null,
    "lastScheduledRunId": null,
    "lastSuccessfullyExecutedCode": null,
    "outputsMetadata": {
     "0": {
      "height": 311,
      "type": "dataFrame"
     }
    }
   },
   "outputs": [],
   "source": [
    "# choose the first 1000 records\n",
    "\n",
    "df = car_df.iloc[:1000,:][['Age_08_04', 'KM', 'Fuel_Type', 'HP', 'Met_Color', 'Automatic',\n",
    "'CC', 'Doors', 'Quarterly_Tax', 'Weight']]\n",
    "# focus on predictors: ['Age_08_04', 'KM', 'Fuel_Type', 'HP', 'Met_Color', 'Automatic',\n",
    "# 'CC', 'Doors', 'Quarterly_Tax', 'Weight']\n",
    "# use df to store it\n",
    "\n"
   ]
  },
  {
   "cell_type": "code",
   "execution_count": 16,
   "id": "3497360c-dc70-4431-b4ea-782081dca97b",
   "metadata": {
    "executionCancelledAt": null,
    "executionTime": 51,
    "lastExecutedAt": 1698697904263,
    "lastScheduledRunId": null,
    "lastSuccessfullyExecutedCode": "# check the frequency of Fuel_Type\n\ncar_df.Fuel_Type.value_counts()"
   },
   "outputs": [
    {
     "data": {
      "text/plain": [
       "Fuel_Type\n",
       "Petrol    867\n",
       "Diesel    119\n",
       "CNG        14\n",
       "Name: count, dtype: int64"
      ]
     },
     "execution_count": 16,
     "metadata": {},
     "output_type": "execute_result"
    }
   ],
   "source": [
    "# check the frequency of Fuel_Type\n",
    "\n",
    "df.Fuel_Type.value_counts()"
   ]
  },
  {
   "cell_type": "code",
   "execution_count": 19,
   "id": "1aa520b9-59d1-420f-b12d-b206fa938f3c",
   "metadata": {
    "executionCancelledAt": null,
    "executionTime": null,
    "lastExecutedAt": null,
    "lastScheduledRunId": null,
    "lastSuccessfullyExecutedCode": null,
    "outputsMetadata": {
     "0": {
      "height": 191,
      "type": "dataFrame"
     }
    }
   },
   "outputs": [
    {
     "data": {
      "text/html": [
       "<div>\n",
       "<style scoped>\n",
       "    .dataframe tbody tr th:only-of-type {\n",
       "        vertical-align: middle;\n",
       "    }\n",
       "\n",
       "    .dataframe tbody tr th {\n",
       "        vertical-align: top;\n",
       "    }\n",
       "\n",
       "    .dataframe thead th {\n",
       "        text-align: right;\n",
       "    }\n",
       "</style>\n",
       "<table border=\"1\" class=\"dataframe\">\n",
       "  <thead>\n",
       "    <tr style=\"text-align: right;\">\n",
       "      <th></th>\n",
       "      <th>Age_08_04</th>\n",
       "      <th>KM</th>\n",
       "      <th>HP</th>\n",
       "      <th>Met_Color</th>\n",
       "      <th>Automatic</th>\n",
       "      <th>CC</th>\n",
       "      <th>Doors</th>\n",
       "      <th>Quarterly_Tax</th>\n",
       "      <th>Weight</th>\n",
       "      <th>Fuel_Type_Diesel</th>\n",
       "      <th>Fuel_Type_Petrol</th>\n",
       "    </tr>\n",
       "  </thead>\n",
       "  <tbody>\n",
       "    <tr>\n",
       "      <th>0</th>\n",
       "      <td>23</td>\n",
       "      <td>46986</td>\n",
       "      <td>90</td>\n",
       "      <td>1</td>\n",
       "      <td>0</td>\n",
       "      <td>2000</td>\n",
       "      <td>3</td>\n",
       "      <td>210</td>\n",
       "      <td>1165</td>\n",
       "      <td>1</td>\n",
       "      <td>0</td>\n",
       "    </tr>\n",
       "    <tr>\n",
       "      <th>1</th>\n",
       "      <td>23</td>\n",
       "      <td>72937</td>\n",
       "      <td>90</td>\n",
       "      <td>1</td>\n",
       "      <td>0</td>\n",
       "      <td>2000</td>\n",
       "      <td>3</td>\n",
       "      <td>210</td>\n",
       "      <td>1165</td>\n",
       "      <td>1</td>\n",
       "      <td>0</td>\n",
       "    </tr>\n",
       "    <tr>\n",
       "      <th>2</th>\n",
       "      <td>24</td>\n",
       "      <td>41711</td>\n",
       "      <td>90</td>\n",
       "      <td>1</td>\n",
       "      <td>0</td>\n",
       "      <td>2000</td>\n",
       "      <td>3</td>\n",
       "      <td>210</td>\n",
       "      <td>1165</td>\n",
       "      <td>1</td>\n",
       "      <td>0</td>\n",
       "    </tr>\n",
       "    <tr>\n",
       "      <th>3</th>\n",
       "      <td>26</td>\n",
       "      <td>48000</td>\n",
       "      <td>90</td>\n",
       "      <td>0</td>\n",
       "      <td>0</td>\n",
       "      <td>2000</td>\n",
       "      <td>3</td>\n",
       "      <td>210</td>\n",
       "      <td>1165</td>\n",
       "      <td>1</td>\n",
       "      <td>0</td>\n",
       "    </tr>\n",
       "    <tr>\n",
       "      <th>4</th>\n",
       "      <td>30</td>\n",
       "      <td>38500</td>\n",
       "      <td>90</td>\n",
       "      <td>0</td>\n",
       "      <td>0</td>\n",
       "      <td>2000</td>\n",
       "      <td>3</td>\n",
       "      <td>210</td>\n",
       "      <td>1170</td>\n",
       "      <td>1</td>\n",
       "      <td>0</td>\n",
       "    </tr>\n",
       "  </tbody>\n",
       "</table>\n",
       "</div>"
      ],
      "text/plain": [
       "   Age_08_04     KM  HP  Met_Color  Automatic    CC  Doors  Quarterly_Tax  \\\n",
       "0         23  46986  90          1          0  2000      3            210   \n",
       "1         23  72937  90          1          0  2000      3            210   \n",
       "2         24  41711  90          1          0  2000      3            210   \n",
       "3         26  48000  90          0          0  2000      3            210   \n",
       "4         30  38500  90          0          0  2000      3            210   \n",
       "\n",
       "   Weight  Fuel_Type_Diesel  Fuel_Type_Petrol  \n",
       "0    1165                 1                 0  \n",
       "1    1165                 1                 0  \n",
       "2    1165                 1                 0  \n",
       "3    1165                 1                 0  \n",
       "4    1170                 1                 0  "
      ]
     },
     "execution_count": 19,
     "metadata": {},
     "output_type": "execute_result"
    }
   ],
   "source": [
    "# get dummy variables for x\n",
    "\n",
    "x = pd.get_dummies(df, drop_first=True, dtype='int')\n",
    "# preview x\n",
    "\n",
    "x.head()"
   ]
  },
  {
   "cell_type": "code",
   "execution_count": 22,
   "id": "76db2e1c-e640-47c4-9bd1-ea781bb1c6b5",
   "metadata": {
    "executionCancelledAt": null,
    "executionTime": 11,
    "lastExecutedAt": 1698697989673,
    "lastScheduledRunId": null,
    "lastSuccessfullyExecutedCode": "# define y, 'Price'\n\ny = car_df.Price",
    "outputsMetadata": {
     "0": {
      "height": 311,
      "type": "dataFrame"
     }
    }
   },
   "outputs": [
    {
     "data": {
      "text/plain": [
       "0    13500\n",
       "1    13750\n",
       "2    13950\n",
       "3    14950\n",
       "4    13750\n",
       "Name: Price, dtype: int64"
      ]
     },
     "execution_count": 22,
     "metadata": {},
     "output_type": "execute_result"
    }
   ],
   "source": [
    "# define y, 'Price'\n",
    "\n",
    "y = car_df.iloc[:1000,:].Price\n",
    "y.head()"
   ]
  },
  {
   "cell_type": "code",
   "execution_count": 24,
   "id": "d818be26-969f-476b-a2e7-15bb6f2ef952",
   "metadata": {
    "executionCancelledAt": null,
    "executionTime": 52,
    "lastExecutedAt": 1698698142157,
    "lastScheduledRunId": null,
    "lastSuccessfullyExecutedCode": "# partition data, 40% for validation\n# random_state=1\n\ntrain_x, valid_x, train_y, valid_y = train_test_split(x, y, test_size=0.4, random_state=13234)\n\n# fit the model on training data\n# define car_lm, LinearRegression()\n\ncar_lm = LinearRegression()\ncar_lm.fit(train_x, train_y)\n\n# define predicted_y, training data, predict()\n\npredicted_y = car_lm.predict(train_x)\n"
   },
   "outputs": [],
   "source": [
    "# partition data, 40% for validation\n",
    "# random_state=1\n",
    "\n",
    "train_x, valid_x, train_y, valid_y = train_test_split(x, y, test_size=0.4, random_state=1)\n",
    "# fit the model on training data\n",
    "# define car_lm, LinearRegression()\n",
    "\n",
    "car_lm = LinearRegression()\n",
    "\n",
    "car_lm.fit(train_x, train_y)\n",
    "# define predicted_y, training data, predict()\n",
    "\n",
    "predicted_y = car_lm.predict(train_x)"
   ]
  },
  {
   "cell_type": "code",
   "execution_count": 25,
   "id": "e4a33c5a-dd67-436d-9322-b3b888315799",
   "metadata": {
    "executionCancelledAt": null,
    "executionTime": null,
    "lastExecutedAt": null,
    "lastScheduledRunId": null,
    "lastSuccessfullyExecutedCode": null,
    "outputsMetadata": {
     "0": {
      "height": 169,
      "type": "stream"
     }
    }
   },
   "outputs": [
    {
     "name": "stdout",
     "output_type": "stream",
     "text": [
      "\n",
      "Regression statistics\n",
      "\n",
      "                      Mean Error (ME) : 0.0000\n",
      "       Root Mean Squared Error (RMSE) : 1400.5823\n",
      "            Mean Absolute Error (MAE) : 1046.9072\n",
      "          Mean Percentage Error (MPE) : -1.0223\n",
      "Mean Absolute Percentage Error (MAPE) : 9.2994\n"
     ]
    }
   ],
   "source": [
    "# performance measures, regressionSummary()\n",
    "# training data\n",
    "regressionSummary(train_y, predicted_y)"
   ]
  },
  {
   "cell_type": "markdown",
   "id": "157adbf1-1593-477c-a74e-3c0697471e9e",
   "metadata": {},
   "source": [
    "## Prediction for the Validation Data"
   ]
  },
  {
   "cell_type": "code",
   "execution_count": 28,
   "id": "81e30c76-f6af-476d-97d8-b7cd4601f240",
   "metadata": {
    "executionCancelledAt": null,
    "executionTime": 342,
    "lastExecutedAt": 1698698336705,
    "lastScheduledRunId": null,
    "lastSuccessfullyExecutedCode": "# Use predict() to make predictions on validation data\n# redefine predicted_y\n\npredicted_y = car_lm.predict(valid_x)\n# a new dataframe residual, with the column about the difference between valid_y and predicted_y\n\nresidual = pd.DataFrame({\n    'residual': valid_y - predicted_y\n})\n\nimport matplotlib.pyplot as plt\n%matplotlib inline\n# show the histogram\n\nresidual.hist(bins=100)",
    "outputsMetadata": {
     "0": {
      "height": 191,
      "type": "dataFrame"
     }
    }
   },
   "outputs": [
    {
     "data": {
      "text/plain": [
       "array([[<Axes: title={'center': 'Price'}>]], dtype=object)"
      ]
     },
     "execution_count": 28,
     "metadata": {},
     "output_type": "execute_result"
    },
    {
     "data": {
      "image/png": "[encoded data removed]",
      "text/plain": [
       "<Figure size 640x480 with 1 Axes>"
      ]
     },
     "metadata": {},
     "output_type": "display_data"
    }
   ],
   "source": [
    "# Use predict() to make predictions on validation data\n",
    "# redefine predicted_y\n",
    "\n",
    "predicted_y = car_lm.predict(valid_x)\n",
    "# a new dataframe residual, with the column about the difference between valid_y and predicted_y\n",
    "\n",
    "residual = pd.DataFrame(valid_y - predicted_y)\n",
    "\n",
    "# import additional packages\n",
    "import matplotlib.pyplot as plt\n",
    "%matplotlib inline\n",
    "\n",
    "# show the histogram\n",
    "# optional: bins=100\n",
    "\n",
    "residual.hist(bins=100)"
   ]
  },
  {
   "cell_type": "code",
   "execution_count": 29,
   "id": "523784d4-d91d-4993-a267-16d652783b12",
   "metadata": {
    "executionCancelledAt": null,
    "executionTime": null,
    "lastExecutedAt": null,
    "lastScheduledRunId": null,
    "lastSuccessfullyExecutedCode": null,
    "outputsMetadata": {
     "0": {
      "height": 169,
      "type": "stream"
     }
    }
   },
   "outputs": [
    {
     "name": "stdout",
     "output_type": "stream",
     "text": [
      "\n",
      "Regression statistics\n",
      "\n",
      "                      Mean Error (ME) : 103.6803\n",
      "       Root Mean Squared Error (RMSE) : 1312.8523\n",
      "            Mean Absolute Error (MAE) : 1017.5972\n",
      "          Mean Percentage Error (MPE) : -0.2633\n",
      "Mean Absolute Percentage Error (MAPE) : 9.0111\n"
     ]
    }
   ],
   "source": [
    "# evaluate the performance, validation data\n",
    "\n",
    "regressionSummary(valid_y, predicted_y)"
   ]
  },
  {
   "cell_type": "markdown",
   "id": "de70931b-e75a-4922-a5fc-4e6a5b11bb88",
   "metadata": {},
   "source": [
    "**---- Back to PPT ----**"
   ]
  },
  {
   "cell_type": "markdown",
   "id": "348850da-e25b-446a-9c46-9a7f10290a40",
   "metadata": {},
   "source": [
    "## Regularization / Shrinkage"
   ]
  },
  {
   "cell_type": "code",
   "execution_count": 31,
   "id": "62b248a3-7345-4706-a5b2-3941c1afadb9",
   "metadata": {
    "executionCancelledAt": null,
    "executionTime": null,
    "lastExecutedAt": null,
    "lastScheduledRunId": null,
    "lastSuccessfullyExecutedCode": null,
    "outputsMetadata": {
     "0": {
      "height": 191,
      "type": "dataFrame"
     }
    }
   },
   "outputs": [
    {
     "data": {
      "text/html": [
       "<div>\n",
       "<style scoped>\n",
       "    .dataframe tbody tr th:only-of-type {\n",
       "        vertical-align: middle;\n",
       "    }\n",
       "\n",
       "    .dataframe tbody tr th {\n",
       "        vertical-align: top;\n",
       "    }\n",
       "\n",
       "    .dataframe thead th {\n",
       "        text-align: right;\n",
       "    }\n",
       "</style>\n",
       "<table border=\"1\" class=\"dataframe\">\n",
       "  <thead>\n",
       "    <tr style=\"text-align: right;\">\n",
       "      <th></th>\n",
       "      <th>Id</th>\n",
       "      <th>Model</th>\n",
       "      <th>Price</th>\n",
       "      <th>Age_08_04</th>\n",
       "      <th>Mfg_Month</th>\n",
       "      <th>Mfg_Year</th>\n",
       "      <th>KM</th>\n",
       "      <th>Fuel_Type</th>\n",
       "      <th>HP</th>\n",
       "      <th>Met_Color</th>\n",
       "      <th>...</th>\n",
       "      <th>Powered_Windows</th>\n",
       "      <th>Power_Steering</th>\n",
       "      <th>Radio</th>\n",
       "      <th>Mistlamps</th>\n",
       "      <th>Sport_Model</th>\n",
       "      <th>Backseat_Divider</th>\n",
       "      <th>Metallic_Rim</th>\n",
       "      <th>Radio_cassette</th>\n",
       "      <th>Parking_Assistant</th>\n",
       "      <th>Tow_Bar</th>\n",
       "    </tr>\n",
       "  </thead>\n",
       "  <tbody>\n",
       "    <tr>\n",
       "      <th>0</th>\n",
       "      <td>1</td>\n",
       "      <td>TOYOTA Corolla 2.0 D4D HATCHB TERRA 2/3-Doors</td>\n",
       "      <td>13500</td>\n",
       "      <td>23</td>\n",
       "      <td>10</td>\n",
       "      <td>2002</td>\n",
       "      <td>46986</td>\n",
       "      <td>Diesel</td>\n",
       "      <td>90</td>\n",
       "      <td>1</td>\n",
       "      <td>...</td>\n",
       "      <td>1</td>\n",
       "      <td>1</td>\n",
       "      <td>0</td>\n",
       "      <td>0</td>\n",
       "      <td>0</td>\n",
       "      <td>1</td>\n",
       "      <td>0</td>\n",
       "      <td>0</td>\n",
       "      <td>0</td>\n",
       "      <td>0</td>\n",
       "    </tr>\n",
       "    <tr>\n",
       "      <th>1</th>\n",
       "      <td>2</td>\n",
       "      <td>TOYOTA Corolla 2.0 D4D HATCHB TERRA 2/3-Doors</td>\n",
       "      <td>13750</td>\n",
       "      <td>23</td>\n",
       "      <td>10</td>\n",
       "      <td>2002</td>\n",
       "      <td>72937</td>\n",
       "      <td>Diesel</td>\n",
       "      <td>90</td>\n",
       "      <td>1</td>\n",
       "      <td>...</td>\n",
       "      <td>0</td>\n",
       "      <td>1</td>\n",
       "      <td>0</td>\n",
       "      <td>0</td>\n",
       "      <td>0</td>\n",
       "      <td>1</td>\n",
       "      <td>0</td>\n",
       "      <td>0</td>\n",
       "      <td>0</td>\n",
       "      <td>0</td>\n",
       "    </tr>\n",
       "    <tr>\n",
       "      <th>2</th>\n",
       "      <td>3</td>\n",
       "      <td>TOYOTA Corolla 2.0 D4D HATCHB TERRA 2/3-Doors</td>\n",
       "      <td>13950</td>\n",
       "      <td>24</td>\n",
       "      <td>9</td>\n",
       "      <td>2002</td>\n",
       "      <td>41711</td>\n",
       "      <td>Diesel</td>\n",
       "      <td>90</td>\n",
       "      <td>1</td>\n",
       "      <td>...</td>\n",
       "      <td>0</td>\n",
       "      <td>1</td>\n",
       "      <td>0</td>\n",
       "      <td>0</td>\n",
       "      <td>0</td>\n",
       "      <td>1</td>\n",
       "      <td>0</td>\n",
       "      <td>0</td>\n",
       "      <td>0</td>\n",
       "      <td>0</td>\n",
       "    </tr>\n",
       "    <tr>\n",
       "      <th>3</th>\n",
       "      <td>4</td>\n",
       "      <td>TOYOTA Corolla 2.0 D4D HATCHB TERRA 2/3-Doors</td>\n",
       "      <td>14950</td>\n",
       "      <td>26</td>\n",
       "      <td>7</td>\n",
       "      <td>2002</td>\n",
       "      <td>48000</td>\n",
       "      <td>Diesel</td>\n",
       "      <td>90</td>\n",
       "      <td>0</td>\n",
       "      <td>...</td>\n",
       "      <td>0</td>\n",
       "      <td>1</td>\n",
       "      <td>0</td>\n",
       "      <td>0</td>\n",
       "      <td>0</td>\n",
       "      <td>1</td>\n",
       "      <td>0</td>\n",
       "      <td>0</td>\n",
       "      <td>0</td>\n",
       "      <td>0</td>\n",
       "    </tr>\n",
       "    <tr>\n",
       "      <th>4</th>\n",
       "      <td>5</td>\n",
       "      <td>TOYOTA Corolla 2.0 D4D HATCHB SOL 2/3-Doors</td>\n",
       "      <td>13750</td>\n",
       "      <td>30</td>\n",
       "      <td>3</td>\n",
       "      <td>2002</td>\n",
       "      <td>38500</td>\n",
       "      <td>Diesel</td>\n",
       "      <td>90</td>\n",
       "      <td>0</td>\n",
       "      <td>...</td>\n",
       "      <td>1</td>\n",
       "      <td>1</td>\n",
       "      <td>0</td>\n",
       "      <td>1</td>\n",
       "      <td>0</td>\n",
       "      <td>1</td>\n",
       "      <td>0</td>\n",
       "      <td>0</td>\n",
       "      <td>0</td>\n",
       "      <td>0</td>\n",
       "    </tr>\n",
       "  </tbody>\n",
       "</table>\n",
       "<p>5 rows × 39 columns</p>\n",
       "</div>"
      ],
      "text/plain": [
       "   Id                                          Model  Price  Age_08_04  \\\n",
       "0   1  TOYOTA Corolla 2.0 D4D HATCHB TERRA 2/3-Doors  13500         23   \n",
       "1   2  TOYOTA Corolla 2.0 D4D HATCHB TERRA 2/3-Doors  13750         23   \n",
       "2   3  TOYOTA Corolla 2.0 D4D HATCHB TERRA 2/3-Doors  13950         24   \n",
       "3   4  TOYOTA Corolla 2.0 D4D HATCHB TERRA 2/3-Doors  14950         26   \n",
       "4   5    TOYOTA Corolla 2.0 D4D HATCHB SOL 2/3-Doors  13750         30   \n",
       "\n",
       "   Mfg_Month  Mfg_Year     KM Fuel_Type  HP  Met_Color  ... Powered_Windows  \\\n",
       "0         10      2002  46986    Diesel  90          1  ...               1   \n",
       "1         10      2002  72937    Diesel  90          1  ...               0   \n",
       "2          9      2002  41711    Diesel  90          1  ...               0   \n",
       "3          7      2002  48000    Diesel  90          0  ...               0   \n",
       "4          3      2002  38500    Diesel  90          0  ...               1   \n",
       "\n",
       "   Power_Steering  Radio  Mistlamps  Sport_Model  Backseat_Divider  \\\n",
       "0               1      0          0            0                 1   \n",
       "1               1      0          0            0                 1   \n",
       "2               1      0          0            0                 1   \n",
       "3               1      0          0            0                 1   \n",
       "4               1      0          1            0                 1   \n",
       "\n",
       "   Metallic_Rim  Radio_cassette  Parking_Assistant  Tow_Bar  \n",
       "0             0               0                  0        0  \n",
       "1             0               0                  0        0  \n",
       "2             0               0                  0        0  \n",
       "3             0               0                  0        0  \n",
       "4             0               0                  0        0  \n",
       "\n",
       "[5 rows x 39 columns]"
      ]
     },
     "execution_count": 31,
     "metadata": {},
     "output_type": "execute_result"
    }
   ],
   "source": [
    "# reload car_df and preview it\n",
    "\n",
    "car_df = pd.read_csv('ToyotaCorolla.csv')\n",
    "car_df.head()"
   ]
  },
  {
   "cell_type": "code",
   "execution_count": 34,
   "id": "0d83869a-61bc-4674-978a-7490f5cace72",
   "metadata": {
    "executionCancelledAt": null,
    "executionTime": null,
    "lastExecutedAt": null,
    "lastScheduledRunId": null,
    "lastSuccessfullyExecutedCode": null,
    "outputsMetadata": {
     "0": {
      "height": 191,
      "type": "dataFrame"
     }
    }
   },
   "outputs": [
    {
     "data": {
      "text/html": [
       "<div>\n",
       "<style scoped>\n",
       "    .dataframe tbody tr th:only-of-type {\n",
       "        vertical-align: middle;\n",
       "    }\n",
       "\n",
       "    .dataframe tbody tr th {\n",
       "        vertical-align: top;\n",
       "    }\n",
       "\n",
       "    .dataframe thead th {\n",
       "        text-align: right;\n",
       "    }\n",
       "</style>\n",
       "<table border=\"1\" class=\"dataframe\">\n",
       "  <thead>\n",
       "    <tr style=\"text-align: right;\">\n",
       "      <th></th>\n",
       "      <th>Age_08_04</th>\n",
       "      <th>Mfg_Month</th>\n",
       "      <th>Mfg_Year</th>\n",
       "      <th>KM</th>\n",
       "      <th>HP</th>\n",
       "      <th>Met_Color</th>\n",
       "      <th>Automatic</th>\n",
       "      <th>CC</th>\n",
       "      <th>Doors</th>\n",
       "      <th>Cylinders</th>\n",
       "      <th>...</th>\n",
       "      <th>Fuel_Type_Petrol</th>\n",
       "      <th>Color_Black</th>\n",
       "      <th>Color_Blue</th>\n",
       "      <th>Color_Green</th>\n",
       "      <th>Color_Grey</th>\n",
       "      <th>Color_Red</th>\n",
       "      <th>Color_Silver</th>\n",
       "      <th>Color_Violet</th>\n",
       "      <th>Color_White</th>\n",
       "      <th>Color_Yellow</th>\n",
       "    </tr>\n",
       "  </thead>\n",
       "  <tbody>\n",
       "    <tr>\n",
       "      <th>0</th>\n",
       "      <td>23</td>\n",
       "      <td>10</td>\n",
       "      <td>2002</td>\n",
       "      <td>46986</td>\n",
       "      <td>90</td>\n",
       "      <td>1</td>\n",
       "      <td>0</td>\n",
       "      <td>2000</td>\n",
       "      <td>3</td>\n",
       "      <td>4</td>\n",
       "      <td>...</td>\n",
       "      <td>0</td>\n",
       "      <td>0</td>\n",
       "      <td>1</td>\n",
       "      <td>0</td>\n",
       "      <td>0</td>\n",
       "      <td>0</td>\n",
       "      <td>0</td>\n",
       "      <td>0</td>\n",
       "      <td>0</td>\n",
       "      <td>0</td>\n",
       "    </tr>\n",
       "    <tr>\n",
       "      <th>1</th>\n",
       "      <td>23</td>\n",
       "      <td>10</td>\n",
       "      <td>2002</td>\n",
       "      <td>72937</td>\n",
       "      <td>90</td>\n",
       "      <td>1</td>\n",
       "      <td>0</td>\n",
       "      <td>2000</td>\n",
       "      <td>3</td>\n",
       "      <td>4</td>\n",
       "      <td>...</td>\n",
       "      <td>0</td>\n",
       "      <td>0</td>\n",
       "      <td>0</td>\n",
       "      <td>0</td>\n",
       "      <td>0</td>\n",
       "      <td>0</td>\n",
       "      <td>1</td>\n",
       "      <td>0</td>\n",
       "      <td>0</td>\n",
       "      <td>0</td>\n",
       "    </tr>\n",
       "    <tr>\n",
       "      <th>2</th>\n",
       "      <td>24</td>\n",
       "      <td>9</td>\n",
       "      <td>2002</td>\n",
       "      <td>41711</td>\n",
       "      <td>90</td>\n",
       "      <td>1</td>\n",
       "      <td>0</td>\n",
       "      <td>2000</td>\n",
       "      <td>3</td>\n",
       "      <td>4</td>\n",
       "      <td>...</td>\n",
       "      <td>0</td>\n",
       "      <td>0</td>\n",
       "      <td>1</td>\n",
       "      <td>0</td>\n",
       "      <td>0</td>\n",
       "      <td>0</td>\n",
       "      <td>0</td>\n",
       "      <td>0</td>\n",
       "      <td>0</td>\n",
       "      <td>0</td>\n",
       "    </tr>\n",
       "    <tr>\n",
       "      <th>3</th>\n",
       "      <td>26</td>\n",
       "      <td>7</td>\n",
       "      <td>2002</td>\n",
       "      <td>48000</td>\n",
       "      <td>90</td>\n",
       "      <td>0</td>\n",
       "      <td>0</td>\n",
       "      <td>2000</td>\n",
       "      <td>3</td>\n",
       "      <td>4</td>\n",
       "      <td>...</td>\n",
       "      <td>0</td>\n",
       "      <td>1</td>\n",
       "      <td>0</td>\n",
       "      <td>0</td>\n",
       "      <td>0</td>\n",
       "      <td>0</td>\n",
       "      <td>0</td>\n",
       "      <td>0</td>\n",
       "      <td>0</td>\n",
       "      <td>0</td>\n",
       "    </tr>\n",
       "    <tr>\n",
       "      <th>4</th>\n",
       "      <td>30</td>\n",
       "      <td>3</td>\n",
       "      <td>2002</td>\n",
       "      <td>38500</td>\n",
       "      <td>90</td>\n",
       "      <td>0</td>\n",
       "      <td>0</td>\n",
       "      <td>2000</td>\n",
       "      <td>3</td>\n",
       "      <td>4</td>\n",
       "      <td>...</td>\n",
       "      <td>0</td>\n",
       "      <td>1</td>\n",
       "      <td>0</td>\n",
       "      <td>0</td>\n",
       "      <td>0</td>\n",
       "      <td>0</td>\n",
       "      <td>0</td>\n",
       "      <td>0</td>\n",
       "      <td>0</td>\n",
       "      <td>0</td>\n",
       "    </tr>\n",
       "  </tbody>\n",
       "</table>\n",
       "<p>5 rows × 45 columns</p>\n",
       "</div>"
      ],
      "text/plain": [
       "   Age_08_04  Mfg_Month  Mfg_Year     KM  HP  Met_Color  Automatic    CC  \\\n",
       "0         23         10      2002  46986  90          1          0  2000   \n",
       "1         23         10      2002  72937  90          1          0  2000   \n",
       "2         24          9      2002  41711  90          1          0  2000   \n",
       "3         26          7      2002  48000  90          0          0  2000   \n",
       "4         30          3      2002  38500  90          0          0  2000   \n",
       "\n",
       "   Doors  Cylinders  ...  Fuel_Type_Petrol  Color_Black  Color_Blue  \\\n",
       "0      3          4  ...                 0            0           1   \n",
       "1      3          4  ...                 0            0           0   \n",
       "2      3          4  ...                 0            0           1   \n",
       "3      3          4  ...                 0            1           0   \n",
       "4      3          4  ...                 0            1           0   \n",
       "\n",
       "   Color_Green  Color_Grey  Color_Red  Color_Silver  Color_Violet  \\\n",
       "0            0           0          0             0             0   \n",
       "1            0           0          0             1             0   \n",
       "2            0           0          0             0             0   \n",
       "3            0           0          0             0             0   \n",
       "4            0           0          0             0             0   \n",
       "\n",
       "   Color_White  Color_Yellow  \n",
       "0            0             0  \n",
       "1            0             0  \n",
       "2            0             0  \n",
       "3            0             0  \n",
       "4            0             0  \n",
       "\n",
       "[5 rows x 45 columns]"
      ]
     },
     "execution_count": 34,
     "metadata": {},
     "output_type": "execute_result"
    }
   ],
   "source": [
    "# define x by ignoring the first 3 columns, iloc[], and pd.get_dummies()\n",
    "# preview it\n",
    "\n",
    "x = pd.get_dummies(car_df.iloc[:,3:],drop_first=True, dtype=\"int\")\n",
    "x.head()"
   ]
  },
  {
   "cell_type": "code",
   "execution_count": 35,
   "id": "8f1d49dc-6b41-41d3-b218-6182d3686f53",
   "metadata": {
    "executionCancelledAt": null,
    "executionTime": 12,
    "lastExecutedAt": 1698699220520,
    "lastScheduledRunId": null,
    "lastSuccessfullyExecutedCode": "# define y and partition the data\n# 40% validation, random_state\n\ny = car_df.Price\n\ntrain_x, valid_x, train_y, valid_y = train_test_split(x, y, test_size=0.4, random_state=1)",
    "outputsMetadata": {
     "0": {
      "height": 311,
      "type": "dataFrame"
     }
    }
   },
   "outputs": [],
   "source": [
    "# define y and partition the data\n",
    "# 40% validation, random_state\n",
    "\n",
    "y = car_df.Price\n",
    "\n",
    "train_x, valid_x, train_y, valid_y = train_test_split(x, y, test_size=0.4, random_state=1)"
   ]
  },
  {
   "cell_type": "code",
   "execution_count": 40,
   "id": "b4156aa9-f918-498c-a596-3d94273afad0",
   "metadata": {
    "executionCancelledAt": null,
    "executionTime": 22,
    "lastExecutedAt": 1698699550347,
    "lastScheduledRunId": null,
    "lastSuccessfullyExecutedCode": "# ridge regression\n# define scaler, use StandardScaler for preprocessing predictors\n\nscaler = StandardScaler()\n# define train_x_scaled and valid_x_scaled, based on train_x and valid_x\n# first fit_transform(), then transform()\n\ntrain_x_scaled = scaler.fit_transform(train_x)\nvalid_x_scaled = scaler.transform(valid_x)\n\n# define ridge, fit the Ridge model\n# alpha=0 means no penalty, same as OLR; set alpha=1\n# fit with train_x_scaled and train_y \n\n\nridge = Ridge(alpha=10)\nridge.fit(train_x_scaled, train_y)\n\n# define predicted_y, using valid_x_scaled\n\npredicted_y = ridge.predict(valid_x_scaled)\n\n# predictive performance, for validation\n\nregressionSummary(valid_y, predicted_y)",
    "outputsMetadata": {
     "0": {
      "height": 169,
      "type": "stream"
     }
    }
   },
   "outputs": [
    {
     "name": "stdout",
     "output_type": "stream",
     "text": [
      "\n",
      "Regression statistics\n",
      "\n",
      "                      Mean Error (ME) : 161.9127\n",
      "       Root Mean Squared Error (RMSE) : 2647.5628\n",
      "            Mean Absolute Error (MAE) : 937.5962\n",
      "          Mean Percentage Error (MPE) : 0.3803\n",
      "Mean Absolute Percentage Error (MAPE) : 9.1001\n"
     ]
    }
   ],
   "source": [
    "# ridge regression\n",
    "# define scaler, use StandardScaler for preprocessing predictors\n",
    "\n",
    "scaler = StandardScaler()\n",
    "# define train_x_scaled and valid_x_scaled, based on train_x and valid_x\n",
    "# first fit_transform() for train_x_scaled\n",
    "# then transform() for valid_x_scaled, because scaler has already been fitted before\n",
    "train_x_scaled = pd.DataFrame(scaler.fit_transform(train_x), index=train_x.index, columns=train_x.columns)\n",
    "\n",
    "\n",
    "valid_x_scaled = pd.DataFrame(scaler.transform(valid_x), index=valid_x.index, columns=valid_x.columns)\n",
    "\n",
    "\n",
    "# define ridge, fit the Ridge model; alpha=0 means no penalty, same as OLR; set alpha=1\n",
    "# fit with train_x_scaled and train_y \n",
    "\n",
    "\n",
    "ridge = Ridge(alpha=1)\n",
    "\n",
    "ridge.fit(train_x_scaled, train_y)\n",
    "\n",
    "# define predicted_y, using valid_x_scaled\n",
    "\n",
    "\n",
    "predicted_y = ridge.predict(valid_x_scaled)\n",
    "# predictive performance, for validation\n",
    "\n",
    "regressionSummary(valid_y, predicted_y)"
   ]
  },
  {
   "cell_type": "code",
   "execution_count": 42,
   "id": "13e7df9e-bdb3-4001-b977-2cd069bcebb3",
   "metadata": {
    "executionCancelledAt": null,
    "executionTime": 58,
    "lastExecutedAt": 1698699565705,
    "lastScheduledRunId": null,
    "lastSuccessfullyExecutedCode": "# Lasso regression\n# use preprocessed predictors\n# set alpha=1\n# define lasso and fit with scaled training data\n\nlasso = Lasso(alpha=10)\nlasso.fit(train_x_scaled, train_y)\n\n\n# define predicted_y for scaled validation data\n\npredicted_y = lasso.predict(valid_x_scaled)\n\n# predictive performance for validation data\n\nregressionSummary(valid_y, predicted_y)",
    "outputsMetadata": {
     "0": {
      "height": 169,
      "type": "stream"
     }
    }
   },
   "outputs": [
    {
     "name": "stdout",
     "output_type": "stream",
     "text": [
      "\n",
      "Regression statistics\n",
      "\n",
      "                      Mean Error (ME) : 162.0879\n",
      "       Root Mean Squared Error (RMSE) : 2660.3759\n",
      "            Mean Absolute Error (MAE) : 937.7554\n",
      "          Mean Percentage Error (MPE) : 0.3765\n",
      "Mean Absolute Percentage Error (MAPE) : 9.0992\n"
     ]
    }
   ],
   "source": [
    "# Lasso regression\n",
    "# use preprocessed predictors\n",
    "# set alpha=1\n",
    "# define lasso and fit with scaled training data\n",
    "\n",
    "lasso = Lasso(alpha=1)\n",
    "lasso.fit(train_x_scaled, train_y)\n",
    "\n",
    "# define predicted_y for scaled validation data\n",
    "\n",
    "predicted_y = lasso.predict(valid_x_scaled)\n",
    "# predictive performance for validation data\n",
    "\n",
    "regressionSummary(valid_y, predicted_y)"
   ]
  },
  {
   "cell_type": "code",
   "execution_count": 47,
   "id": "40291c1e-d10d-40d6-9384-4b791ab152de",
   "metadata": {
    "executionCancelledAt": null,
    "executionTime": null,
    "lastExecutedAt": null,
    "lastScheduledRunId": null,
    "lastSuccessfullyExecutedCode": null,
    "outputsMetadata": {
     "0": {
      "height": 169,
      "type": "stream"
     }
    }
   },
   "outputs": [
    {
     "name": "stdout",
     "output_type": "stream",
     "text": [
      "\n",
      "Regression statistics\n",
      "\n",
      "                      Mean Error (ME) : 165.6172\n",
      "       Root Mean Squared Error (RMSE) : 2733.3662\n",
      "            Mean Absolute Error (MAE) : 942.2423\n",
      "          Mean Percentage Error (MPE) : 0.4032\n",
      "Mean Absolute Percentage Error (MAPE) : 9.1260\n"
     ]
    }
   ],
   "source": [
    "# Linear regression\n",
    "# define linear and fit with training data\n",
    "\n",
    "linear = LinearRegression()\n",
    "\n",
    "linear.fit(train_x_scaled, train_y)\n",
    "# define predicted_y for validation data\n",
    "\n",
    "predicted_y = linear.predict(valid_x_scaled)\n",
    "# predictive performance\n",
    "\n",
    "regressionSummary(valid_y, predicted_y)"
   ]
  },
  {
   "cell_type": "code",
   "execution_count": null,
   "id": "c69035ff-42ef-405c-8478-e8243111dee6",
   "metadata": {},
   "outputs": [],
   "source": []
  }
 ],
 "metadata": {
  "editor": "DataCamp Workspace",
  "kernelspec": {
   "display_name": "Python 3 (ipykernel)",
   "language": "python",
   "name": "python3"
  },
  "language_info": {
   "codemirror_mode": {
    "name": "ipython",
    "version": 3
   },
   "file_extension": ".py",
   "mimetype": "text/x-python",
   "name": "python",
   "nbconvert_exporter": "python",
   "pygments_lexer": "ipython3",
   "version": "3.12.1"
  }
 },
 "nbformat": 4,
 "nbformat_minor": 5
}
