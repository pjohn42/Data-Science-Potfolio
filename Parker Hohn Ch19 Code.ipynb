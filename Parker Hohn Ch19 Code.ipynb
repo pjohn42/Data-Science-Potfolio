{
 "cells": [
  {
   "cell_type": "markdown",
   "id": "308d76da-f811-454f-9530-b85068f2f068",
   "metadata": {},
   "source": [
    "# Chapter 19: Social Network Analysis\n",
    "\n",
    "## Import required packages"
   ]
  },
  {
   "cell_type": "code",
   "execution_count": 1,
   "id": "ec89678f-945d-4bae-a695-4c03589385c3",
   "metadata": {
    "executionCancelledAt": null,
    "executionTime": 2653,
    "lastExecutedAt": 1731981490335,
    "lastExecutedByKernel": "47a8866f-0d46-4bce-ae60-4da6fbcd1b2e",
    "lastScheduledRunId": null,
    "lastSuccessfullyExecutedCode": "!pip install dmba",
    "outputsMetadata": {
     "0": {
      "height": 542,
      "type": "stream"
     }
    }
   },
   "outputs": [
    {
     "name": "stdout",
     "output_type": "stream",
     "text": [
      "Requirement already satisfied: dmba in c:\\users\\orlan\\onedrive\\desktop\\lib\\site-packages (0.2.4)\n",
      "Requirement already satisfied: graphviz in c:\\users\\orlan\\onedrive\\desktop\\lib\\site-packages (from dmba) (0.20.3)\n",
      "Requirement already satisfied: matplotlib in c:\\users\\orlan\\onedrive\\desktop\\lib\\site-packages (from dmba) (3.8.3)\n",
      "Requirement already satisfied: numpy in c:\\users\\orlan\\onedrive\\desktop\\lib\\site-packages (from dmba) (1.26.4)\n",
      "Requirement already satisfied: pandas in c:\\users\\orlan\\onedrive\\desktop\\lib\\site-packages (from dmba) (2.2.1)\n",
      "Requirement already satisfied: scikit-learn in c:\\users\\orlan\\onedrive\\desktop\\lib\\site-packages (from dmba) (1.4.2)\n",
      "Requirement already satisfied: scipy in c:\\users\\orlan\\onedrive\\desktop\\lib\\site-packages (from dmba) (1.13.0)\n",
      "Requirement already satisfied: contourpy>=1.0.1 in c:\\users\\orlan\\onedrive\\desktop\\lib\\site-packages (from matplotlib->dmba) (1.2.0)\n",
      "Requirement already satisfied: cycler>=0.10 in c:\\users\\orlan\\onedrive\\desktop\\lib\\site-packages (from matplotlib->dmba) (0.12.1)\n",
      "Requirement already satisfied: fonttools>=4.22.0 in c:\\users\\orlan\\onedrive\\desktop\\lib\\site-packages (from matplotlib->dmba) (4.49.0)\n",
      "Requirement already satisfied: kiwisolver>=1.3.1 in c:\\users\\orlan\\onedrive\\desktop\\lib\\site-packages (from matplotlib->dmba) (1.4.5)\n",
      "Requirement already satisfied: packaging>=20.0 in c:\\users\\orlan\\onedrive\\desktop\\lib\\site-packages (from matplotlib->dmba) (23.2)\n",
      "Requirement already satisfied: pillow>=8 in c:\\users\\orlan\\onedrive\\desktop\\lib\\site-packages (from matplotlib->dmba) (10.2.0)\n",
      "Requirement already satisfied: pyparsing>=2.3.1 in c:\\users\\orlan\\onedrive\\desktop\\lib\\site-packages (from matplotlib->dmba) (3.1.2)\n",
      "Requirement already satisfied: python-dateutil>=2.7 in c:\\users\\orlan\\onedrive\\desktop\\lib\\site-packages (from matplotlib->dmba) (2.8.2)\n",
      "Requirement already satisfied: pytz>=2020.1 in c:\\users\\orlan\\onedrive\\desktop\\lib\\site-packages (from pandas->dmba) (2024.1)\n",
      "Requirement already satisfied: tzdata>=2022.7 in c:\\users\\orlan\\onedrive\\desktop\\lib\\site-packages (from pandas->dmba) (2024.1)\n",
      "Requirement already satisfied: joblib>=1.2.0 in c:\\users\\orlan\\onedrive\\desktop\\lib\\site-packages (from scikit-learn->dmba) (1.4.2)\n",
      "Requirement already satisfied: threadpoolctl>=2.0.0 in c:\\users\\orlan\\onedrive\\desktop\\lib\\site-packages (from scikit-learn->dmba) (3.5.0)\n",
      "Requirement already satisfied: six>=1.5 in c:\\users\\orlan\\onedrive\\desktop\\lib\\site-packages (from python-dateutil>=2.7->matplotlib->dmba) (1.16.0)\n",
      "Requirement already satisfied: networkx in c:\\users\\orlan\\onedrive\\desktop\\lib\\site-packages (3.4.2)\n"
     ]
    }
   ],
   "source": [
    "!pip install dmba\n",
    "!pip install networkx"
   ]
  },
  {
   "cell_type": "code",
   "execution_count": 2,
   "id": "97e5b386-75cf-463c-988f-240892f78dff",
   "metadata": {
    "executionCancelledAt": null,
    "executionTime": 53,
    "lastExecutedAt": 1731981490389,
    "lastExecutedByKernel": "47a8866f-0d46-4bce-ae60-4da6fbcd1b2e",
    "lastScheduledRunId": null,
    "lastSuccessfullyExecutedCode": "import pandas as pd\nimport matplotlib.pyplot as plt\n%matplotlib inline\n\nimport dmba\n\nimport networkx as nx",
    "outputsMetadata": {
     "0": {
      "height": 38,
      "type": "stream"
     }
    }
   },
   "outputs": [],
   "source": [
    "import pandas as pd\n",
    "import matplotlib.pyplot as plt\n",
    "%matplotlib inline\n",
    "\n",
    "import dmba\n",
    "\n",
    "import networkx as nx"
   ]
  },
  {
   "cell_type": "markdown",
   "id": "d2c6fb05-7a84-42b3-9254-c58d6046a05e",
   "metadata": {},
   "source": [
    "## Hypothetical LinkedIn network\n",
    " "
   ]
  },
  {
   "cell_type": "code",
   "execution_count": 3,
   "id": "a308d962-4f5b-4e2e-87eb-81dcec0804f7",
   "metadata": {
    "executionCancelledAt": null,
    "executionTime": 60,
    "lastExecutedAt": 1731981490449,
    "lastExecutedByKernel": "47a8866f-0d46-4bce-ae60-4da6fbcd1b2e",
    "lastScheduledRunId": null,
    "lastSuccessfullyExecutedCode": "# Build a dataframe that shows the network\ndf = pd.DataFrame({\n    'from': ['Dave', 'Peter', 'John', 'Dave', 'Dave', 'Peter', 'Sam', 'Peter'],\n    'to': ['Jenny', 'Jenny', 'Jenny', 'Peter', 'John', 'Sam', 'Albert', 'John']\n})\n\n# show it\ndf",
    "outputsMetadata": {
     "0": {
      "height": 306,
      "type": "dataFrame"
     }
    }
   },
   "outputs": [
    {
     "data": {
      "text/html": [
       "<div>\n",
       "<style scoped>\n",
       "    .dataframe tbody tr th:only-of-type {\n",
       "        vertical-align: middle;\n",
       "    }\n",
       "\n",
       "    .dataframe tbody tr th {\n",
       "        vertical-align: top;\n",
       "    }\n",
       "\n",
       "    .dataframe thead th {\n",
       "        text-align: right;\n",
       "    }\n",
       "</style>\n",
       "<table border=\"1\" class=\"dataframe\">\n",
       "  <thead>\n",
       "    <tr style=\"text-align: right;\">\n",
       "      <th></th>\n",
       "      <th>from</th>\n",
       "      <th>to</th>\n",
       "    </tr>\n",
       "  </thead>\n",
       "  <tbody>\n",
       "    <tr>\n",
       "      <th>0</th>\n",
       "      <td>Dave</td>\n",
       "      <td>Jenny</td>\n",
       "    </tr>\n",
       "    <tr>\n",
       "      <th>1</th>\n",
       "      <td>Peter</td>\n",
       "      <td>Jenny</td>\n",
       "    </tr>\n",
       "    <tr>\n",
       "      <th>2</th>\n",
       "      <td>John</td>\n",
       "      <td>Jenny</td>\n",
       "    </tr>\n",
       "    <tr>\n",
       "      <th>3</th>\n",
       "      <td>Dave</td>\n",
       "      <td>Peter</td>\n",
       "    </tr>\n",
       "    <tr>\n",
       "      <th>4</th>\n",
       "      <td>Dave</td>\n",
       "      <td>John</td>\n",
       "    </tr>\n",
       "    <tr>\n",
       "      <th>5</th>\n",
       "      <td>Peter</td>\n",
       "      <td>Sam</td>\n",
       "    </tr>\n",
       "    <tr>\n",
       "      <th>6</th>\n",
       "      <td>Sam</td>\n",
       "      <td>Albert</td>\n",
       "    </tr>\n",
       "    <tr>\n",
       "      <th>7</th>\n",
       "      <td>Peter</td>\n",
       "      <td>John</td>\n",
       "    </tr>\n",
       "  </tbody>\n",
       "</table>\n",
       "</div>"
      ],
      "text/plain": [
       "    from      to\n",
       "0   Dave   Jenny\n",
       "1  Peter   Jenny\n",
       "2   John   Jenny\n",
       "3   Dave   Peter\n",
       "4   Dave    John\n",
       "5  Peter     Sam\n",
       "6    Sam  Albert\n",
       "7  Peter    John"
      ]
     },
     "execution_count": 3,
     "metadata": {},
     "output_type": "execute_result"
    }
   ],
   "source": [
    "# Build a dataframe that shows the network\n",
    "df = pd.DataFrame({\n",
    "    'from': ['Dave', 'Peter', 'John', 'Dave', 'Dave', 'Peter', 'Sam', 'Peter'],\n",
    "    'to': ['Jenny', 'Jenny', 'Jenny', 'Peter', 'John', 'Sam', 'Albert', 'John']\n",
    "})\n",
    "\n",
    "# show it\n",
    "df"
   ]
  },
  {
   "cell_type": "code",
   "execution_count": 4,
   "id": "3a36b84c-2ac3-4ea3-b0d3-66d8f4888401",
   "metadata": {
    "executionCancelledAt": null,
    "executionTime": 205,
    "lastExecutedAt": 1731981503507,
    "lastExecutedByKernel": "47a8866f-0d46-4bce-ae60-4da6fbcd1b2e",
    "lastScheduledRunId": null,
    "lastSuccessfullyExecutedCode": "# use nx.from_pandas_edgelist(), for the df dataframe, indicate 'from' and 'to' for the edge list\n# define G to store it\nG = nx.from_pandas_edgelist(df, 'from', 'to')\nG\n# plot with nx.draw(), for G\n# setting: with_labels=True, node_color='skyblue', node_size=1600\nnx.draw(G, with_labels=True, node_size=1600, node_color='skyblue')\n\n# plt.show()\n\nplt.show()"
   },
   "outputs": [
    {
     "data": {
      "image/png": "[encoded data removed]",
      "text/plain": [
       "<Figure size 640x480 with 1 Axes>"
      ]
     },
     "metadata": {},
     "output_type": "display_data"
    }
   ],
   "source": [
    "# use nx.from_pandas_edgelist(), for the df dataframe, indicate 'from' and 'to' for the edge list\n",
    "# define G to store it\n",
    "G = nx.from_pandas_edgelist(df, 'from', 'to')\n",
    "\n",
    "# plot with nx.draw(), for G\n",
    "# setting: with_labels=True, node_color='skyblue', node_size=1600\n",
    "nx.draw(G, with_labels=True, node_size=1600, node_color='lightgreen')\n",
    "\n",
    "# plt.show()\n"
   ]
  },
  {
   "cell_type": "code",
   "execution_count": 5,
   "id": "c3e93465-8281-40e3-904b-fe16f4c9eac9",
   "metadata": {
    "executionCancelledAt": null,
    "executionTime": 260,
    "lastExecutedAt": 1731981507831,
    "lastExecutedByKernel": "47a8866f-0d46-4bce-ae60-4da6fbcd1b2e",
    "lastScheduledRunId": null,
    "lastSuccessfullyExecutedCode": "# use nx.from_pandas_edgelist(), for the df dataframe, indicate 'from' and 'to' for the edge list\n# setting: create_using=nx.DiGraph(), to create a directed graph\n# redefine G\nG = nx.from_pandas_edgelist(df, 'from', 'to', create_using=nx.DiGraph())\n\n# plot with nx.draw(), for G\n# setting: with_labels=True, node_color='skyblue', node_size=1600\n\nnx.draw(G, with_labels=True, node_color='skyblue', node_size=1600)\n# plt.show()\n\n"
   },
   "outputs": [
    {
     "data": {
      "image/png": "[encoded data removed]",
      "text/plain": [
       "<Figure size 640x480 with 1 Axes>"
      ]
     },
     "metadata": {},
     "output_type": "display_data"
    }
   ],
   "source": [
    "# use nx.from_pandas_edgelist(), for the df dataframe, indicate 'from' and 'to' for the edge list\n",
    "# setting: create_using=nx.DiGraph(), to create a directed graph\n",
    "# redefine G\n",
    "G = nx.from_pandas_edgelist(df, 'from', 'to', create_using=nx.DiGraph())\n",
    "\n",
    "# plot with nx.draw(), for G\n",
    "# setting: with_labels=True, node_color='skyblue', node_size=1600\n",
    "nx.draw(G, with_labels=True, node_color='lightblue', node_size=1600)\n",
    "\n",
    "# plt.show()\n",
    "\n"
   ]
  },
  {
   "cell_type": "markdown",
   "id": "7e2fb578-20bb-4ce9-a0e1-a6f1d0807b36",
   "metadata": {},
   "source": [
    "**---- Back to PPT ----**"
   ]
  },
  {
   "cell_type": "markdown",
   "id": "754f7d30-359b-47ab-8082-17f310761fbc",
   "metadata": {},
   "source": [
    "## Drug network in San Antonio"
   ]
  },
  {
   "cell_type": "code",
   "execution_count": 21,
   "id": "22003ee3-c56c-4993-98b8-91254f385897",
   "metadata": {
    "executionCancelledAt": null,
    "executionTime": 2828,
    "lastExecutedAt": 1731981540318,
    "lastExecutedByKernel": "47a8866f-0d46-4bce-ae60-4da6fbcd1b2e",
    "lastScheduledRunId": null,
    "lastSuccessfullyExecutedCode": "# load data drug.csv, defined as drug_df\ndrug_df = pd.read_csv('drug.csv')\n\n# preview it\ndrug_df.head()",
    "outputsMetadata": {
     "0": {
      "height": 239,
      "type": "dataFrame"
     }
    }
   },
   "outputs": [
    {
     "data": {
      "text/html": [
       "<div>\n",
       "<style scoped>\n",
       "    .dataframe tbody tr th:only-of-type {\n",
       "        vertical-align: middle;\n",
       "    }\n",
       "\n",
       "    .dataframe tbody tr th {\n",
       "        vertical-align: top;\n",
       "    }\n",
       "\n",
       "    .dataframe thead th {\n",
       "        text-align: right;\n",
       "    }\n",
       "</style>\n",
       "<table border=\"1\" class=\"dataframe\">\n",
       "  <thead>\n",
       "    <tr style=\"text-align: right;\">\n",
       "      <th></th>\n",
       "      <th>Entity</th>\n",
       "      <th>Related Entity</th>\n",
       "      <th>Relationship</th>\n",
       "      <th>Descrption</th>\n",
       "      <th>Related Entity Address 1</th>\n",
       "      <th>Related Entity Address 2</th>\n",
       "      <th>Related Address 3</th>\n",
       "    </tr>\n",
       "  </thead>\n",
       "  <tbody>\n",
       "    <tr>\n",
       "      <th>0</th>\n",
       "      <td>6451 Babcock Road</td>\n",
       "      <td>Q &amp; M LLC</td>\n",
       "      <td>Owner</td>\n",
       "      <td>Current Owner</td>\n",
       "      <td>10 Kings Heath</td>\n",
       "      <td>NaN</td>\n",
       "      <td>NaN</td>\n",
       "    </tr>\n",
       "    <tr>\n",
       "      <th>1</th>\n",
       "      <td>Q &amp; M LLC</td>\n",
       "      <td>10 Kings Heath</td>\n",
       "      <td>Address</td>\n",
       "      <td>NaN</td>\n",
       "      <td>NaN</td>\n",
       "      <td>NaN</td>\n",
       "      <td>NaN</td>\n",
       "    </tr>\n",
       "    <tr>\n",
       "      <th>2</th>\n",
       "      <td>Maurico Sanchez</td>\n",
       "      <td>Q &amp; M LLC</td>\n",
       "      <td>Managing Member</td>\n",
       "      <td>10 Kings Heath</td>\n",
       "      <td>11706 Mission Trace Street</td>\n",
       "      <td>NaN</td>\n",
       "      <td>NaN</td>\n",
       "    </tr>\n",
       "    <tr>\n",
       "      <th>3</th>\n",
       "      <td>Hilda Riebeling</td>\n",
       "      <td>Q &amp; M LLC</td>\n",
       "      <td>Manager</td>\n",
       "      <td>10 Kings Heath</td>\n",
       "      <td>1162 E Sonterra Boulevard, Suite 100</td>\n",
       "      <td>NaN</td>\n",
       "      <td>NaN</td>\n",
       "    </tr>\n",
       "    <tr>\n",
       "      <th>4</th>\n",
       "      <td>Ponte Vedra Apartments</td>\n",
       "      <td>Q &amp; M LLC</td>\n",
       "      <td>Spinoff?</td>\n",
       "      <td>8018 Broadway Street, Suite 200</td>\n",
       "      <td>NaN</td>\n",
       "      <td>NaN</td>\n",
       "      <td>NaN</td>\n",
       "    </tr>\n",
       "  </tbody>\n",
       "</table>\n",
       "</div>"
      ],
      "text/plain": [
       "                   Entity  Related Entity     Relationship  \\\n",
       "0       6451 Babcock Road       Q & M LLC            Owner   \n",
       "1               Q & M LLC  10 Kings Heath          Address   \n",
       "2         Maurico Sanchez       Q & M LLC  Managing Member   \n",
       "3         Hilda Riebeling       Q & M LLC          Manager   \n",
       "4  Ponte Vedra Apartments       Q & M LLC         Spinoff?   \n",
       "\n",
       "                        Descrption              Related Entity Address 1  \\\n",
       "0                    Current Owner                        10 Kings Heath   \n",
       "1                              NaN                                   NaN   \n",
       "2                   10 Kings Heath            11706 Mission Trace Street   \n",
       "3                   10 Kings Heath  1162 E Sonterra Boulevard, Suite 100   \n",
       "4  8018 Broadway Street, Suite 200                                   NaN   \n",
       "\n",
       "  Related Entity Address 2  Related Address 3  \n",
       "0                      NaN                NaN  \n",
       "1                      NaN                NaN  \n",
       "2                      NaN                NaN  \n",
       "3                      NaN                NaN  \n",
       "4                      NaN                NaN  "
      ]
     },
     "execution_count": 21,
     "metadata": {},
     "output_type": "execute_result"
    }
   ],
   "source": [
    "# load data drug.csv, defined as drug_df\n",
    "drug_df = pd.read_csv('drug.csv')\n",
    "\n",
    "# preview it\n",
    "\n",
    "drug_df.head()"
   ]
  },
  {
   "cell_type": "code",
   "execution_count": 25,
   "id": "f49efd23-94ec-4c81-83af-a60e148f0054",
   "metadata": {
    "executionCancelledAt": null,
    "executionTime": 618,
    "lastExecutedAt": 1731982503573,
    "lastExecutedByKernel": "47a8866f-0d46-4bce-ae60-4da6fbcd1b2e",
    "lastScheduledRunId": null,
    "lastSuccessfullyExecutedCode": "# use nx.from_pandas_edgelist(), for the drug_df dataframe, indicate 'Entity' and 'Related Entity' for the edge list\n# define G\nG = nx.from_pandas_edgelist(drug_df, 'Entity', 'Related Entity')\n\n# plot with nx.draw(), for G\n# setting: with_labels=False, node_color='skyblue', node_size=100\nnx.draw_kamada_kawai(G, node_size=100)\n\n# plt.show()\n\n"
   },
   "outputs": [
    {
     "data": {
      "image/png": "[encoded data removed]",
      "text/plain": [
       "<Figure size 640x480 with 1 Axes>"
      ]
     },
     "metadata": {},
     "output_type": "display_data"
    }
   ],
   "source": [
    "# use nx.from_pandas_edgelist(), for the drug_df dataframe, indicate 'Entity' and 'Related Entity' for the edge list\n",
    "# define G\n",
    "G = nx.from_pandas_edgelist(drug_df, 'Entity', 'Related Entity')\n",
    "G\n",
    "# plot with nx.draw(), for G\n",
    "# setting: with_labels=False, node_color='skyblue', node_size=100\n",
    "nx.draw(G, node_color='skyblue', node_size=100)\n",
    "\n",
    "# plt.show()\n",
    "\n"
   ]
  },
  {
   "cell_type": "code",
   "execution_count": 32,
   "id": "a6034121-3c0a-42e6-90b5-098186366b56",
   "metadata": {
    "executionCancelledAt": null,
    "executionTime": 248,
    "lastExecutedAt": 1731982324154,
    "lastExecutedByKernel": "47a8866f-0d46-4bce-ae60-4da6fbcd1b2e",
    "lastScheduledRunId": null,
    "lastSuccessfullyExecutedCode": "# use nx.eigenvector_centrality(), for G\n# how influential a node is in a network\n# define centrality to store it\ncentrality = nx.eigenvector_centrality(G)\n\n# plot with nx.draw(), for G\n# setting: with_labels=False, node_color='skyblue', node_size=[400*centrality[n] for n in G.nodes()]\n# G.nodes() returns a list of all nodes in the graph\n# centrality[n] is the centrality value for node n\nnx.draw_kamada_kawai(G, node_size=[400*centrality[i] for i in G.nodes])\n\n# plt.show()\n",
    "outputsMetadata": {
     "0": {
      "height": 248,
      "type": "stream"
     }
    }
   },
   "outputs": [
    {
     "data": {
      "image/png": "[encoded data removed]",
      "text/plain": [
       "<Figure size 640x480 with 1 Axes>"
      ]
     },
     "metadata": {},
     "output_type": "display_data"
    }
   ],
   "source": [
    "# use nx.eigenvector_centrality(), for G\n",
    "# how influential a node is in a network\n",
    "# define centrality to store it\n",
    "centrality = nx.eigenvector_centrality(G)\n",
    "centrality\n",
    "# plot with nx.draw(), for G\n",
    "# setting: with_labels=False, node_color='skyblue', node_size=[400*centrality[n] for n in G.nodes()]\n",
    "# G.nodes() returns a list of all nodes in the graph\n",
    "# centrality[n] is the centrality value for node n\n",
    "nx.draw(G, node_color='skyblue', node_size=[400*centrality[n] for n in G.nodes()])\n",
    "\n",
    "# plt.show()\n"
   ]
  },
  {
   "cell_type": "code",
   "execution_count": 35,
   "id": "25c00be8-f07d-4c2d-92e5-682904cdfe0e",
   "metadata": {},
   "outputs": [
    {
     "data": {
      "text/html": [
       "<div>\n",
       "<style scoped>\n",
       "    .dataframe tbody tr th:only-of-type {\n",
       "        vertical-align: middle;\n",
       "    }\n",
       "\n",
       "    .dataframe tbody tr th {\n",
       "        vertical-align: top;\n",
       "    }\n",
       "\n",
       "    .dataframe thead th {\n",
       "        text-align: right;\n",
       "    }\n",
       "</style>\n",
       "<table border=\"1\" class=\"dataframe\">\n",
       "  <thead>\n",
       "    <tr style=\"text-align: right;\">\n",
       "      <th></th>\n",
       "      <th>centrality</th>\n",
       "    </tr>\n",
       "  </thead>\n",
       "  <tbody>\n",
       "    <tr>\n",
       "      <th>10 Kings Heath</th>\n",
       "      <td>6.232739e-01</td>\n",
       "    </tr>\n",
       "    <tr>\n",
       "      <th>Arturo Madrigal</th>\n",
       "      <td>2.842651e-01</td>\n",
       "    </tr>\n",
       "    <tr>\n",
       "      <th>Alejandro Sanchez</th>\n",
       "      <td>2.567153e-01</td>\n",
       "    </tr>\n",
       "    <tr>\n",
       "      <th>Q &amp; M LLC</th>\n",
       "      <td>2.185429e-01</td>\n",
       "    </tr>\n",
       "    <tr>\n",
       "      <th>Alvaro Garcia de Quevedo</th>\n",
       "      <td>1.977799e-01</td>\n",
       "    </tr>\n",
       "    <tr>\n",
       "      <th>A G Q FULL SERVICE, LLC</th>\n",
       "      <td>1.977799e-01</td>\n",
       "    </tr>\n",
       "    <tr>\n",
       "      <th>CANTINA LATINA HOLDINGS LTD</th>\n",
       "      <td>1.930326e-01</td>\n",
       "    </tr>\n",
       "    <tr>\n",
       "      <th>Mauricio Sanchez</th>\n",
       "      <td>1.698488e-01</td>\n",
       "    </tr>\n",
       "    <tr>\n",
       "      <th>CANTINA LATINA TEXAS, LLC</th>\n",
       "      <td>1.593862e-01</td>\n",
       "    </tr>\n",
       "    <tr>\n",
       "      <th>Joseph Blaha</th>\n",
       "      <td>1.593862e-01</td>\n",
       "    </tr>\n",
       "    <tr>\n",
       "      <th>Beatriz Garcia de Sanchez</th>\n",
       "      <td>1.501377e-01</td>\n",
       "    </tr>\n",
       "    <tr>\n",
       "      <th>Hilda Riebeling Cordero</th>\n",
       "      <td>1.501377e-01</td>\n",
       "    </tr>\n",
       "    <tr>\n",
       "      <th>Luis Cortes</th>\n",
       "      <td>1.501377e-01</td>\n",
       "    </tr>\n",
       "    <tr>\n",
       "      <th>MACRI, INC.</th>\n",
       "      <td>1.501377e-01</td>\n",
       "    </tr>\n",
       "    <tr>\n",
       "      <th>CANTINA LATINA TEXAS, LTD.</th>\n",
       "      <td>1.501377e-01</td>\n",
       "    </tr>\n",
       "    <tr>\n",
       "      <th>SAGAR REAL ESTATE, LLC</th>\n",
       "      <td>1.083371e-01</td>\n",
       "    </tr>\n",
       "    <tr>\n",
       "      <th>MACRI, INC</th>\n",
       "      <td>9.654673e-02</td>\n",
       "    </tr>\n",
       "    <tr>\n",
       "      <th>Ana Patrica Cristan de Madrigal</th>\n",
       "      <td>9.173510e-02</td>\n",
       "    </tr>\n",
       "    <tr>\n",
       "      <th>HARBARD BAR, LLC</th>\n",
       "      <td>8.615813e-02</td>\n",
       "    </tr>\n",
       "    <tr>\n",
       "      <th>OBB, LLC</th>\n",
       "      <td>7.863683e-02</td>\n",
       "    </tr>\n",
       "    <tr>\n",
       "      <th>Maurico Sanchez</th>\n",
       "      <td>7.339873e-02</td>\n",
       "    </tr>\n",
       "    <tr>\n",
       "      <th>56 Eton Green Circle</th>\n",
       "      <td>7.269589e-02</td>\n",
       "    </tr>\n",
       "    <tr>\n",
       "      <th>O S F STEAK HOUSE</th>\n",
       "      <td>7.269589e-02</td>\n",
       "    </tr>\n",
       "    <tr>\n",
       "      <th>CANLH, LLC</th>\n",
       "      <td>6.995687e-02</td>\n",
       "    </tr>\n",
       "    <tr>\n",
       "      <th>9715 San Pedro Avenue</th>\n",
       "      <td>6.973642e-02</td>\n",
       "    </tr>\n",
       "    <tr>\n",
       "      <th>FDA FIBER, INC</th>\n",
       "      <td>6.847723e-02</td>\n",
       "    </tr>\n",
       "    <tr>\n",
       "      <th>19510 Gran Roble</th>\n",
       "      <td>6.847723e-02</td>\n",
       "    </tr>\n",
       "    <tr>\n",
       "      <th>BRB ENTERPRISE TEXAS LLC</th>\n",
       "      <td>6.183853e-02</td>\n",
       "    </tr>\n",
       "    <tr>\n",
       "      <th>1735 Henderson Pass</th>\n",
       "      <td>6.183853e-02</td>\n",
       "    </tr>\n",
       "    <tr>\n",
       "      <th>CANTINA LATINA NEVADA, INC.</th>\n",
       "      <td>6.183853e-02</td>\n",
       "    </tr>\n",
       "    <tr>\n",
       "      <th>6301 Melissa Ann Street</th>\n",
       "      <td>5.264378e-02</td>\n",
       "    </tr>\n",
       "    <tr>\n",
       "      <th>Hilda Riebeling</th>\n",
       "      <td>5.264378e-02</td>\n",
       "    </tr>\n",
       "    <tr>\n",
       "      <th>Ponte Vedra Apartments</th>\n",
       "      <td>5.264378e-02</td>\n",
       "    </tr>\n",
       "    <tr>\n",
       "      <th>6451 Babcock Road</th>\n",
       "      <td>5.264378e-02</td>\n",
       "    </tr>\n",
       "    <tr>\n",
       "      <th>9510 Tioga Drive, Suite 206</th>\n",
       "      <td>4.091404e-02</td>\n",
       "    </tr>\n",
       "    <tr>\n",
       "      <th>O S F STEAK HOUSE, LLC</th>\n",
       "      <td>4.091404e-02</td>\n",
       "    </tr>\n",
       "    <tr>\n",
       "      <th>CANLT, LLC</th>\n",
       "      <td>3.839376e-02</td>\n",
       "    </tr>\n",
       "    <tr>\n",
       "      <th>10 Knight's Peak</th>\n",
       "      <td>3.839376e-02</td>\n",
       "    </tr>\n",
       "    <tr>\n",
       "      <th>Lorenza Madrigal Cristan</th>\n",
       "      <td>2.478496e-02</td>\n",
       "    </tr>\n",
       "    <tr>\n",
       "      <th>CANTINA LATINA NEVADA, INC</th>\n",
       "      <td>1.783303e-02</td>\n",
       "    </tr>\n",
       "    <tr>\n",
       "      <th>Carlos Andres Rodriguez Valle</th>\n",
       "      <td>1.751212e-02</td>\n",
       "    </tr>\n",
       "    <tr>\n",
       "      <th>10223 Sahara Street</th>\n",
       "      <td>1.751212e-02</td>\n",
       "    </tr>\n",
       "    <tr>\n",
       "      <th>CANTINA LATINA HOLDINGS</th>\n",
       "      <td>1.685137e-02</td>\n",
       "    </tr>\n",
       "    <tr>\n",
       "      <th>CANTINA LATINA HOLDINGS 10 Kings Heath</th>\n",
       "      <td>1.685137e-02</td>\n",
       "    </tr>\n",
       "    <tr>\n",
       "      <th>19519 Gran Roble</th>\n",
       "      <td>6.338717e-03</td>\n",
       "    </tr>\n",
       "    <tr>\n",
       "      <th>Diego Sanchez</th>\n",
       "      <td>4.295642e-03</td>\n",
       "    </tr>\n",
       "    <tr>\n",
       "      <th>Laredo National Bank</th>\n",
       "      <td>1.527088e-03</td>\n",
       "    </tr>\n",
       "    <tr>\n",
       "      <th>Build a Cupcake USA</th>\n",
       "      <td>1.538721e-09</td>\n",
       "    </tr>\n",
       "    <tr>\n",
       "      <th>Ana Patricia Madrigal</th>\n",
       "      <td>8.883808e-10</td>\n",
       "    </tr>\n",
       "    <tr>\n",
       "      <th>Natalia Madrigal</th>\n",
       "      <td>8.883808e-10</td>\n",
       "    </tr>\n",
       "    <tr>\n",
       "      <th>Regina Madrigal Cristan</th>\n",
       "      <td>8.883808e-10</td>\n",
       "    </tr>\n",
       "    <tr>\n",
       "      <th>CANTINA LATINA BEVERAGE COMPANY CORPORATION</th>\n",
       "      <td>9.726077e-14</td>\n",
       "    </tr>\n",
       "  </tbody>\n",
       "</table>\n",
       "</div>"
      ],
      "text/plain": [
       "                                               centrality\n",
       "10 Kings Heath                               6.232739e-01\n",
       "Arturo Madrigal                              2.842651e-01\n",
       "Alejandro Sanchez                            2.567153e-01\n",
       "Q & M LLC                                    2.185429e-01\n",
       "Alvaro Garcia de Quevedo                     1.977799e-01\n",
       "A G Q FULL SERVICE, LLC                      1.977799e-01\n",
       "CANTINA LATINA HOLDINGS LTD                  1.930326e-01\n",
       "Mauricio Sanchez                             1.698488e-01\n",
       "CANTINA LATINA TEXAS, LLC                    1.593862e-01\n",
       "Joseph Blaha                                 1.593862e-01\n",
       "Beatriz Garcia de Sanchez                    1.501377e-01\n",
       "Hilda Riebeling Cordero                      1.501377e-01\n",
       "Luis Cortes                                  1.501377e-01\n",
       "MACRI, INC.                                  1.501377e-01\n",
       "CANTINA LATINA TEXAS, LTD.                   1.501377e-01\n",
       "SAGAR REAL ESTATE, LLC                       1.083371e-01\n",
       "MACRI, INC                                   9.654673e-02\n",
       "Ana Patrica Cristan de Madrigal              9.173510e-02\n",
       "HARBARD BAR, LLC                             8.615813e-02\n",
       "OBB, LLC                                     7.863683e-02\n",
       "Maurico Sanchez                              7.339873e-02\n",
       "56 Eton Green Circle                         7.269589e-02\n",
       "O S F STEAK HOUSE                            7.269589e-02\n",
       "CANLH, LLC                                   6.995687e-02\n",
       "9715 San Pedro Avenue                        6.973642e-02\n",
       "FDA FIBER, INC                               6.847723e-02\n",
       "19510 Gran Roble                             6.847723e-02\n",
       "BRB ENTERPRISE TEXAS LLC                     6.183853e-02\n",
       "1735 Henderson Pass                          6.183853e-02\n",
       "CANTINA LATINA NEVADA, INC.                  6.183853e-02\n",
       "6301 Melissa Ann Street                      5.264378e-02\n",
       "Hilda Riebeling                              5.264378e-02\n",
       "Ponte Vedra Apartments                       5.264378e-02\n",
       "6451 Babcock Road                            5.264378e-02\n",
       "9510 Tioga Drive, Suite 206                  4.091404e-02\n",
       "O S F STEAK HOUSE, LLC                       4.091404e-02\n",
       "CANLT, LLC                                   3.839376e-02\n",
       "10 Knight's Peak                             3.839376e-02\n",
       "Lorenza Madrigal Cristan                     2.478496e-02\n",
       "CANTINA LATINA NEVADA, INC                   1.783303e-02\n",
       "Carlos Andres Rodriguez Valle                1.751212e-02\n",
       "10223 Sahara Street                          1.751212e-02\n",
       "CANTINA LATINA HOLDINGS                      1.685137e-02\n",
       "CANTINA LATINA HOLDINGS 10 Kings Heath       1.685137e-02\n",
       "19519 Gran Roble                             6.338717e-03\n",
       "Diego Sanchez                                4.295642e-03\n",
       "Laredo National Bank                         1.527088e-03\n",
       "Build a Cupcake USA                          1.538721e-09\n",
       "Ana Patricia Madrigal                        8.883808e-10\n",
       "Natalia Madrigal                             8.883808e-10\n",
       "Regina Madrigal Cristan                      8.883808e-10\n",
       "CANTINA LATINA BEVERAGE COMPANY CORPORATION  9.726077e-14"
      ]
     },
     "execution_count": 35,
     "metadata": {},
     "output_type": "execute_result"
    }
   ],
   "source": [
    "pd.DataFrame({\n",
    "    'centrality':centrality\n",
    "}).sort_values('centrality', ascending=False)"
   ]
  },
  {
   "cell_type": "markdown",
   "id": "cb3ad667-2b31-4ec7-8ef7-9de8701b125e",
   "metadata": {},
   "source": [
    "## Back to the LinkedIn Data"
   ]
  },
  {
   "cell_type": "markdown",
   "id": "12f1aadd-8795-43a8-8ffc-bb9cba0b7fec",
   "metadata": {},
   "source": [
    "### Different layouts"
   ]
  },
  {
   "cell_type": "code",
   "execution_count": 40,
   "id": "d910ba72-fb4c-496f-8a89-226b7824a96a",
   "metadata": {
    "executionCancelledAt": null,
    "executionTime": 284,
    "lastExecutedAt": 1731982238816,
    "lastExecutedByKernel": "47a8866f-0d46-4bce-ae60-4da6fbcd1b2e",
    "lastScheduledRunId": null,
    "lastSuccessfullyExecutedCode": "# use nx.from_pandas_edgelist(), for the df dataframe, indicate 'from' and 'to' for the edge list\n# define G\nG = nx.from_pandas_edgelist(df, 'from', 'to')\n\n# use plt.subplots(), 1 row 2 columns, setting: figsize=(10, 4) \n# define fig, axes to store the plots\nfig, axes = plt.subplots(1, 2, figsize=(10, 4))\n\n# plot with nx.draw_circular(), for G\n# setting: with_labels=True, node_color='skyblue', node_size=1600, ax=axes[0])\nnx.draw_circular(G, with_labels=True, node_color='skyblue', node_size=1600, ax=axes[0])\n\n# plot with nx.draw_kamada_kawai(), for G\n# setting: with_labels=True, node_color='skyblue', node_size=1600, ax=axes[1]\nnx.draw_kamada_kawai(G, with_labels=True, node_color='skyblue', node_size=1600, ax=axes[1])\n\n# plt.tight_layout()\n# plt.show()"
   },
   "outputs": [
    {
     "data": {
      "image/png": "[encoded data removed]",
      "text/plain": [
       "<Figure size 1000x400 with 2 Axes>"
      ]
     },
     "metadata": {},
     "output_type": "display_data"
    }
   ],
   "source": [
    "# use nx.from_pandas_edgelist(), for the df dataframe, indicate 'from' and 'to' for the edge list\n",
    "# define G\n",
    "G = nx.from_pandas_edgelist(df, 'from', 'to')\n",
    "\n",
    "# use plt.subplots(), 1 row 2 columns, setting: figsize=(10, 4) \n",
    "# define fig, axes to store the plots\n",
    "fig, axes = plt.subplots(1, 2, figsize=(10, 4))\n",
    "\n",
    "# plot with nx.draw_circular(), for G\n",
    "# setting: with_labels=True, node_color='skyblue', node_size=1600, ax=axes[0])\n",
    "nx.draw_circular(G, with_labels=True, node_color='lightblue', node_size=1600, ax=axes[0])\n",
    "\n",
    "# plot with nx.draw_kamada_kawai(), for G\n",
    "# setting: with_labels=True, node_color='skyblue', node_size=1600, ax=axes[1]\n",
    "nx.draw_kamada_kawai(G, with_labels=True, node_color='lightblue', node_size=1600, ax=axes[1])\n",
    "\n",
    "# plt.tight_layout()\n",
    "# plt.show()\n",
    "# try: width=[] in nx.draw() and G.edges()"
   ]
  },
  {
   "cell_type": "markdown",
   "id": "8b9ef141-5aae-4591-8cd3-cd8af5a18018",
   "metadata": {},
   "source": [
    "### Adjacency matrix"
   ]
  },
  {
   "cell_type": "code",
   "execution_count": 42,
   "id": "67bb929a-362c-400b-a3ea-dbf3a21d7d39",
   "metadata": {
    "executionCancelledAt": null,
    "executionTime": 24,
    "lastExecutedAt": 1731982933377,
    "lastExecutedByKernel": "47a8866f-0d46-4bce-ae60-4da6fbcd1b2e",
    "lastScheduledRunId": null,
    "lastSuccessfullyExecutedCode": "# use nx.from_pandas_edgelist(), for the df dataframe, indicate 'from' and 'to' for the edge list\n# setting: create_using=nx.DiGraph(), to create a directed graph\n# define G\nG = nx.from_pandas_edgelist(df, 'from', 'to', create_using=nx.DiGraph())\n\n# show nx.to_numpy_array(G) \nnx.to_numpy_array(G)\n\n# use dataframe to show the matrix, set index and columns, same as list(G.nodes())\npd.DataFrame(nx.to_numpy_array(G), index=G.nodes(), columns=G.nodes())",
    "outputsMetadata": {
     "0": {
      "height": 267,
      "type": "dataFrame"
     }
    }
   },
   "outputs": [
    {
     "data": {
      "text/html": [
       "<div>\n",
       "<style scoped>\n",
       "    .dataframe tbody tr th:only-of-type {\n",
       "        vertical-align: middle;\n",
       "    }\n",
       "\n",
       "    .dataframe tbody tr th {\n",
       "        vertical-align: top;\n",
       "    }\n",
       "\n",
       "    .dataframe thead th {\n",
       "        text-align: right;\n",
       "    }\n",
       "</style>\n",
       "<table border=\"1\" class=\"dataframe\">\n",
       "  <thead>\n",
       "    <tr style=\"text-align: right;\">\n",
       "      <th></th>\n",
       "      <th>Dave</th>\n",
       "      <th>Jenny</th>\n",
       "      <th>Peter</th>\n",
       "      <th>John</th>\n",
       "      <th>Sam</th>\n",
       "      <th>Albert</th>\n",
       "    </tr>\n",
       "  </thead>\n",
       "  <tbody>\n",
       "    <tr>\n",
       "      <th>Dave</th>\n",
       "      <td>0.0</td>\n",
       "      <td>1.0</td>\n",
       "      <td>1.0</td>\n",
       "      <td>1.0</td>\n",
       "      <td>0.0</td>\n",
       "      <td>0.0</td>\n",
       "    </tr>\n",
       "    <tr>\n",
       "      <th>Jenny</th>\n",
       "      <td>0.0</td>\n",
       "      <td>0.0</td>\n",
       "      <td>0.0</td>\n",
       "      <td>0.0</td>\n",
       "      <td>0.0</td>\n",
       "      <td>0.0</td>\n",
       "    </tr>\n",
       "    <tr>\n",
       "      <th>Peter</th>\n",
       "      <td>0.0</td>\n",
       "      <td>1.0</td>\n",
       "      <td>0.0</td>\n",
       "      <td>1.0</td>\n",
       "      <td>1.0</td>\n",
       "      <td>0.0</td>\n",
       "    </tr>\n",
       "    <tr>\n",
       "      <th>John</th>\n",
       "      <td>0.0</td>\n",
       "      <td>1.0</td>\n",
       "      <td>0.0</td>\n",
       "      <td>0.0</td>\n",
       "      <td>0.0</td>\n",
       "      <td>0.0</td>\n",
       "    </tr>\n",
       "    <tr>\n",
       "      <th>Sam</th>\n",
       "      <td>0.0</td>\n",
       "      <td>0.0</td>\n",
       "      <td>0.0</td>\n",
       "      <td>0.0</td>\n",
       "      <td>0.0</td>\n",
       "      <td>1.0</td>\n",
       "    </tr>\n",
       "    <tr>\n",
       "      <th>Albert</th>\n",
       "      <td>0.0</td>\n",
       "      <td>0.0</td>\n",
       "      <td>0.0</td>\n",
       "      <td>0.0</td>\n",
       "      <td>0.0</td>\n",
       "      <td>0.0</td>\n",
       "    </tr>\n",
       "  </tbody>\n",
       "</table>\n",
       "</div>"
      ],
      "text/plain": [
       "        Dave  Jenny  Peter  John  Sam  Albert\n",
       "Dave     0.0    1.0    1.0   1.0  0.0     0.0\n",
       "Jenny    0.0    0.0    0.0   0.0  0.0     0.0\n",
       "Peter    0.0    1.0    0.0   1.0  1.0     0.0\n",
       "John     0.0    1.0    0.0   0.0  0.0     0.0\n",
       "Sam      0.0    0.0    0.0   0.0  0.0     1.0\n",
       "Albert   0.0    0.0    0.0   0.0  0.0     0.0"
      ]
     },
     "execution_count": 42,
     "metadata": {},
     "output_type": "execute_result"
    }
   ],
   "source": [
    "# use nx.from_pandas_edgelist(), for the df dataframe, indicate 'from' and 'to' for the edge list\n",
    "# setting: create_using=nx.DiGraph(), to create a directed graph\n",
    "# define G\n",
    "G = nx.from_pandas_edgelist(df, 'from', 'to', create_using=nx.DiGraph())\n",
    "\n",
    "# show nx.to_numpy_array(G) \n",
    "nx.to_numpy_array(G)\n",
    "# use dataframe to show the matrix, set index and columns, same as list(G.nodes())\n",
    "pd.DataFrame(nx.to_numpy_array(G), index=G.nodes() , columns=G.nodes())\n"
   ]
  },
  {
   "cell_type": "markdown",
   "id": "44c54f33-3f35-4900-8043-4590e95f0e26",
   "metadata": {},
   "source": [
    "### Metrics for nodes & edges\n"
   ]
  },
  {
   "cell_type": "code",
   "execution_count": 44,
   "id": "3742c41b-a347-450e-b830-3d963c43c30f",
   "metadata": {
    "executionCancelledAt": null,
    "executionTime": 231,
    "lastExecutedAt": 1731983505868,
    "lastExecutedByKernel": "47a8866f-0d46-4bce-ae60-4da6fbcd1b2e",
    "lastScheduledRunId": null,
    "lastSuccessfullyExecutedCode": "# use nx.from_pandas_edgelist(), for the df dataframe, indicate 'from' and 'to' for the edge list\n# define G\nG = nx.from_pandas_edgelist(df, 'from', 'to')\n\n# Degree: the number of edges connected to it\n# print, 'Degree:'\n# print, use G.degree()\n# print, add an empty line\nprint('Degree')\nprint(G.degree())\nprint()\n\n# Closeness: Reciprocal of avg. shortest path to all other nodes \n# print, 'Closeness:'\n# print, use nx.closeness_centrality(G) \nprint('Closeness:')\nprint(nx.closeness_centrality(G))\n\n\n# plot with nx.draw_kamada_kawai(), for G\n# setting: with_labels=True, node_color='skyblue', node_size=1600\nnx.draw_kamada_kawai(G, with_labels=True, node_color='skyblue', node_size=1600)\n",
    "outputsMetadata": {
     "0": {
      "height": 122,
      "type": "stream"
     }
    }
   },
   "outputs": [
    {
     "name": "stdout",
     "output_type": "stream",
     "text": [
      "Degree\n",
      "[('Dave', 3), ('Jenny', 3), ('Peter', 4), ('John', 3), ('Sam', 2), ('Albert', 1)]\n",
      "\n",
      "Closeness\n",
      "{'Dave': 0.625, 'Jenny': 0.625, 'Peter': 0.8333333333333334, 'John': 0.625, 'Sam': 0.625, 'Albert': 0.4166666666666667}\n"
     ]
    },
    {
     "data": {
      "image/png": "[encoded data removed]",
      "text/plain": [
       "<Figure size 640x480 with 1 Axes>"
      ]
     },
     "metadata": {},
     "output_type": "display_data"
    }
   ],
   "source": [
    "# use nx.from_pandas_edgelist(), for the df dataframe, indicate 'from' and 'to' for the edge list\n",
    "# define G\n",
    "G = nx.from_pandas_edgelist(df, 'from', 'to')\n",
    "\n",
    "# Degree: the number of edges connected to it\n",
    "# print, 'Degree:'\n",
    "# print, use G.degree()\n",
    "# print, add an empty line\n",
    "print('Degree')\n",
    "print(G.degree())\n",
    "print()\n",
    "# Closeness: Reciprocal of avg. shortest path to all other nodes \n",
    "# print, 'Closeness:'\n",
    "# print, use nx.closeness_centrality(G) \n",
    "print('Closeness')\n",
    "print(nx.closeness_centrality(G))\n",
    "\n",
    "# plot with nx.draw_kamada_kawai(), for G\n",
    "# setting: with_labels=True, node_color='skyblue', node_size=1600\n",
    "nx.draw_kamada_kawai(G, with_labels=True, node_color='skyblue', node_size=1600)"
   ]
  },
  {
   "cell_type": "code",
   "execution_count": 45,
   "id": "a3449c40-6e95-4042-adbd-06d3de22b3d9",
   "metadata": {
    "executionCancelledAt": null,
    "executionTime": 12,
    "lastExecutedAt": 1731983662605,
    "lastExecutedByKernel": "47a8866f-0d46-4bce-ae60-4da6fbcd1b2e",
    "lastScheduledRunId": null,
    "lastSuccessfullyExecutedCode": "# Betweenness: the extent to which a given node is on shortest paths between other nodes \n# print, 'Betweenness:'\n# print, use nx.betweenness_centrality(G) \n# print, add an empty line\nprint('Betweenness:')\nprint(nx.betweenness_centrality(G))\nprint()\n\n# Eigenvector centrality: the extent to which a given node is well-connected to other notes \n# print, 'Eigenvector centrality:'\n# print, use nx.eigenvector_centrality(G) \nprint('Eigenvector centrality:')\nprint(nx.eigenvector_centrality(G))",
    "outputsMetadata": {
     "0": {
      "height": 143,
      "type": "stream"
     }
    }
   },
   "outputs": [
    {
     "name": "stdout",
     "output_type": "stream",
     "text": [
      "Betweenness:\n",
      "{'Dave': 0.0, 'Jenny': 0.0, 'Peter': 0.6000000000000001, 'John': 0.0, 'Sam': 0.4, 'Albert': 0.0}\n",
      "Eigenvector Centrality\n",
      "{'Dave': 0.478095053500941, 'Jenny': 0.478095053500941, 'Peter': 0.524235713786943, 'John': 0.478095053500941, 'Sam': 0.18901359222624448, 'Albert': 0.06104209856994265}\n"
     ]
    }
   ],
   "source": [
    "# Betweenness: the extent to which a given node is on shortest paths between other nodes \n",
    "# print, 'Betweenness:'\n",
    "# print, use nx.betweenness_centrality(G) \n",
    "# print, add an empty line\n",
    "print('Betweenness:')\n",
    "print(nx.betweenness_centrality(G))\n",
    "# Eigenvector centrality: the extent to which a given node is well-connected to other notes \n",
    "# print, 'Eigenvector centrality:'\n",
    "# print, use nx.eigenvector_centrality(G) \n",
    "print('Eigenvector Centrality')\n",
    "print(nx.eigenvector_centrality(G))"
   ]
  },
  {
   "cell_type": "code",
   "execution_count": 46,
   "id": "506345d9-2337-403b-9645-ba7bbbfd6c67",
   "metadata": {
    "executionCancelledAt": null,
    "executionTime": 11,
    "lastExecutedAt": 1731983744066,
    "lastExecutedByKernel": "47a8866f-0d46-4bce-ae60-4da6fbcd1b2e",
    "lastScheduledRunId": null,
    "lastSuccessfullyExecutedCode": "# print, use G.nodes()\n\nprint(G.nodes())",
    "outputsMetadata": {
     "0": {
      "height": 38,
      "type": "stream"
     }
    }
   },
   "outputs": [
    {
     "name": "stdout",
     "output_type": "stream",
     "text": [
      "['Dave', 'Jenny', 'Peter', 'John', 'Sam', 'Albert']\n"
     ]
    }
   ],
   "source": [
    "# print, use G.nodes()\n",
    "\n",
    "print(G.nodes())"
   ]
  },
  {
   "cell_type": "code",
   "execution_count": 49,
   "id": "20263143-5470-40e4-8406-3e50bec5dd7d",
   "metadata": {
    "executionCancelledAt": null,
    "executionTime": 325,
    "lastExecutedAt": 1731983918999,
    "lastExecutedByKernel": "47a8866f-0d46-4bce-ae60-4da6fbcd1b2e",
    "lastScheduledRunId": null,
    "lastSuccessfullyExecutedCode": "# use plt.subplots(), 1 row 2 columns, setting: figsize=(10, 4) \n# define fig, axes to store the plots\nfig, axes = plt.subplots(1, 2, figsize=(10, 4))\n\n# use nx.ego_graph(), for G, focus on 'Dave'\n# define G_ego to store it\nG_ego = nx.ego_graph(G, 'Dave')\n\n# plot with nx.draw(), for G_ego\n# setting: with_labels=True, node_color='skyblue', node_size=1600, ax=axes[0])\nnx.draw(G_ego, with_labels=True, node_color='skyblue', node_size=1600, ax=axes[0])\n\n# use nx.ego_graph(), for G, focus on 'Dave', set radius=2 (a bigger area) \n# define G_ego to store it\nG_ego = nx.ego_graph(G, 'Dave', radius=2)\n\n# plot with nx.draw(), for G_ego\n# setting: with_labels=True, node_color='skyblue', node_size=1600, ax=axes[1])\nnx.draw(G_ego, with_labels=True, node_color='skyblue', node_size=1600, ax=axes[1])",
    "outputsMetadata": {
     "0": {
      "height": 38,
      "type": "stream"
     }
    }
   },
   "outputs": [
    {
     "data": {
      "image/png": "[encoded data removed]",
      "text/plain": [
       "<Figure size 1000x400 with 2 Axes>"
      ]
     },
     "metadata": {},
     "output_type": "display_data"
    }
   ],
   "source": [
    "# use plt.subplots(), 1 row 2 columns, setting: figsize=(10, 4) \n",
    "# define fig, axes to store the plots\n",
    "\n",
    "fig, axes = plt.subplots(1, 2, figsize=(10, 4))\n",
    "# use nx.ego_graph(), for G, focus on 'Dave'\n",
    "# define G_ego to store it\n",
    "\n",
    "G_ego = nx.ego_graph(G, 'Dave')\n",
    "# plot with nx.draw(), for G_ego\n",
    "# setting: with_labels=True, node_color='skyblue', node_size=1600, ax=axes[0])\n",
    "nx.draw(G_ego, with_labels=True, node_color='skyblue', node_size=1600, ax=axes[0])\n",
    "\n",
    "# use nx.ego_graph(), for G, focus on 'Dave', set radius=2 (a bigger area) \n",
    "# define G_ego to store it\n",
    "G_ego = nx.ego_graph(G, 'Dave', radius=2)\n",
    "nx.draw(G_ego, with_labels=True, node_color='skyblue', node_size=1600, ax=axes[1])\n",
    "# plot with nx.draw(), for G_ego\n",
    "# setting: with_labels=True, node_color='skyblue', node_size=1600, ax=axes[1])\n",
    "\n"
   ]
  },
  {
   "cell_type": "markdown",
   "id": "e707b881-bb83-40c5-b152-85f08770d964",
   "metadata": {},
   "source": [
    "### Network metrics"
   ]
  },
  {
   "cell_type": "code",
   "execution_count": 50,
   "id": "778eef30-55cb-4e1b-85f1-f71e2a32ac41",
   "metadata": {
    "executionCancelledAt": null,
    "executionTime": 12,
    "lastExecutedAt": 1731983950227,
    "lastExecutedByKernel": "47a8866f-0d46-4bce-ae60-4da6fbcd1b2e",
    "lastScheduledRunId": null,
    "lastSuccessfullyExecutedCode": "# Degree distribution: the distribution of degrees of nodes\n# show G.degree()\n\nG.degree()"
   },
   "outputs": [
    {
     "data": {
      "text/plain": [
       "DegreeView({'Dave': 3, 'Jenny': 3, 'Peter': 4, 'John': 3, 'Sam': 2, 'Albert': 1})"
      ]
     },
     "execution_count": 50,
     "metadata": {},
     "output_type": "execute_result"
    }
   ],
   "source": [
    "# Degree distribution: the distribution of degrees of nodes\n",
    "# show G.degree()\n",
    "\n",
    "G.degree()"
   ]
  },
  {
   "cell_type": "code",
   "execution_count": 53,
   "id": "c25fa58c-86f2-4e95-ae2c-de8d428cd884",
   "metadata": {
    "executionCancelledAt": null,
    "executionTime": 19,
    "lastExecutedAt": 1731984516449,
    "lastExecutedByKernel": "47a8866f-0d46-4bce-ae60-4da6fbcd1b2e",
    "lastScheduledRunId": null,
    "lastSuccessfullyExecutedCode": "# convert it into a dataframe, dictionary format {}, with 'Degree' as the column name\n# use dict(G.degree())\npd.DataFrame({'Degree': dict(G.degree())})",
    "outputsMetadata": {
     "0": {
      "height": 250,
      "type": "dataFrame"
     }
    }
   },
   "outputs": [
    {
     "data": {
      "text/plain": [
       "Degree\n",
       "1    1\n",
       "2    1\n",
       "3    3\n",
       "4    1\n",
       "Name: count, dtype: int64"
      ]
     },
     "execution_count": 53,
     "metadata": {},
     "output_type": "execute_result"
    }
   ],
   "source": [
    "# convert it into a dataframe, use dictionary format {}, with 'Degree' as the column name\n",
    "# use dict(G.degree())\n",
    "\n",
    "pd.DataFrame({\n",
    "    'Degree' : dict(G.degree())\n",
    "}).value_counts('Degree').sort_index()"
   ]
  },
  {
   "cell_type": "code",
   "execution_count": 17,
   "id": "e8d32804-2343-4ed2-b6e0-746fd0e7a9ed",
   "metadata": {
    "executionCancelledAt": null,
    "executionTime": 53,
    "lastExecutedAt": 1731984557677,
    "lastExecutedByKernel": "47a8866f-0d46-4bce-ae60-4da6fbcd1b2e",
    "lastScheduledRunId": null,
    "lastSuccessfullyExecutedCode": "# identity the frequency distribution of degree\n# use value_counts() on the Degree column, use sort_index()\npd.DataFrame({'Degree': dict(G.degree())}).value_counts('Degree').sort_index()",
    "outputsMetadata": {
     "0": {
      "height": 250,
      "type": "dataFrame"
     }
    }
   },
   "outputs": [],
   "source": [
    "# identity the frequency distribution of degree\n",
    "# use value_counts() on the Degree column, use sort_index()\n",
    "\n"
   ]
  },
  {
   "cell_type": "code",
   "execution_count": 54,
   "id": "2aad7de4-3367-4f34-8c27-cba0f11b9335",
   "metadata": {
    "executionCancelledAt": null,
    "executionTime": 15,
    "lastExecutedAt": 1731984590789,
    "lastExecutedByKernel": "47a8866f-0d46-4bce-ae60-4da6fbcd1b2e",
    "lastScheduledRunId": null,
    "lastSuccessfullyExecutedCode": "# density: Ratio of actual edges to all possible edges\n# use nx.density(), for G\nnx.density(G)"
   },
   "outputs": [
    {
     "data": {
      "text/plain": [
       "0.5333333333333333"
      ]
     },
     "execution_count": 54,
     "metadata": {},
     "output_type": "execute_result"
    }
   ],
   "source": [
    "# density: Ratio of actual edges to all possible edges\n",
    "# use nx.density(), for G\n",
    "\n",
    "nx.density(G)"
   ]
  },
  {
   "cell_type": "code",
   "execution_count": 55,
   "id": "55987ea7-c7b5-4664-bbd6-01372c769146",
   "metadata": {
    "executionCancelledAt": null,
    "executionTime": 15,
    "lastExecutedAt": 1731984827849,
    "lastExecutedByKernel": "47a8866f-0d46-4bce-ae60-4da6fbcd1b2e",
    "lastScheduledRunId": null,
    "lastSuccessfullyExecutedCode": "# get egocentric network with nx.ego_graph(G, n), then calculate nx.density()\n# use list comprehension, for n in G.nodes()\n[nx.density(nx.ego_graph(G, n)) for n in G.nodes()]",
    "outputsMetadata": {
     "0": {
      "height": 143,
      "type": "stream"
     }
    }
   },
   "outputs": [
    {
     "data": {
      "text/plain": [
       "[1.0, 1.0, 0.7, 1.0, 0.6666666666666666, 1.0]"
      ]
     },
     "execution_count": 55,
     "metadata": {},
     "output_type": "execute_result"
    }
   ],
   "source": [
    "# get egocentric network with nx.ego_graph(G, n), then calculate nx.density()\n",
    "# use list comprehension, for n in G.nodes()\n",
    "\n",
    "\n",
    "[nx.density(nx.ego_graph(G, n)) for n in G.nodes()]"
   ]
  },
  {
   "cell_type": "code",
   "execution_count": 61,
   "id": "35908894-762c-4aff-8e20-4ba9db9488a5",
   "metadata": {
    "executionCancelledAt": null,
    "executionTime": 27,
    "lastExecutedAt": 1731984972592,
    "lastExecutedByKernel": "47a8866f-0d46-4bce-ae60-4da6fbcd1b2e",
    "lastScheduledRunId": null,
    "lastSuccessfullyExecutedCode": "# create a dataframe, dictionary format, within it, keep using dictionaries\n# columns include 'Degree', 'Closeness', 'Betweenness', 'Eigenvector Centrality', and 'Ego Network Density'\n# use dictionary comprehension to get {n: nx.density(...) ...)}\npd.DataFrame({\n    'Degree': dict(G.degree()),\n    'Closeness': nx.closeness_centrality(G),\n    'Betweenness': nx.betweenness_centrality(G),\n    'Eigenvector Centrality': nx.eigenvector_centrality(G),\n    'Ego Network Density': {n: nx.density(nx.ego_graph(G, n)) for n in G.nodes()}\n})",
    "outputsMetadata": {
     "0": {
      "height": 267,
      "type": "dataFrame"
     }
    }
   },
   "outputs": [],
   "source": [
    "# create a dataframe, dictionary format, within it, keep using dictionaries\n",
    "# columns include 'Degree', 'Closeness', 'Betweenness', 'Eigenvector Centrality', and 'Ego Network Density'\n",
    "# use dictionary comprehension to get {n: nx.density(...) ...)}\n",
    "\n",
    "a = pd.DataFrame({\n",
    "    'Degree': dict(G.degree()),\n",
    "    'Closeness': nx.closeness_centrality(G),\n",
    "    'Betweeness': nx.betweenness_centrality(G),\n",
    "    'Eigenvector Centrality': nx.eigenvector_centrality(G),\n",
    "    'Density': {n: nx.density(nx.ego_graph(G, n)) for n in G.nodes()}\n",
    "})"
   ]
  },
  {
   "cell_type": "code",
   "execution_count": 62,
   "id": "287d7df7-1405-4b03-aa87-dae99c98abea",
   "metadata": {},
   "outputs": [
    {
     "data": {
      "text/html": [
       "<div>\n",
       "<style scoped>\n",
       "    .dataframe tbody tr th:only-of-type {\n",
       "        vertical-align: middle;\n",
       "    }\n",
       "\n",
       "    .dataframe tbody tr th {\n",
       "        vertical-align: top;\n",
       "    }\n",
       "\n",
       "    .dataframe thead th {\n",
       "        text-align: right;\n",
       "    }\n",
       "</style>\n",
       "<table border=\"1\" class=\"dataframe\">\n",
       "  <thead>\n",
       "    <tr style=\"text-align: right;\">\n",
       "      <th></th>\n",
       "      <th>Degree</th>\n",
       "      <th>Closeness</th>\n",
       "      <th>Betweeness</th>\n",
       "      <th>Eigenvector Centrality</th>\n",
       "      <th>Density</th>\n",
       "    </tr>\n",
       "  </thead>\n",
       "  <tbody>\n",
       "    <tr>\n",
       "      <th>Degree</th>\n",
       "      <td>1.000000</td>\n",
       "      <td>0.918559</td>\n",
       "      <td>0.388514</td>\n",
       "      <td>0.950518</td>\n",
       "      <td>-0.210090</td>\n",
       "    </tr>\n",
       "    <tr>\n",
       "      <th>Closeness</th>\n",
       "      <td>0.918559</td>\n",
       "      <td>1.000000</td>\n",
       "      <td>0.713746</td>\n",
       "      <td>0.757339</td>\n",
       "      <td>-0.578941</td>\n",
       "    </tr>\n",
       "    <tr>\n",
       "      <th>Betweeness</th>\n",
       "      <td>0.388514</td>\n",
       "      <td>0.713746</td>\n",
       "      <td>1.000000</td>\n",
       "      <td>0.085778</td>\n",
       "      <td>-0.953970</td>\n",
       "    </tr>\n",
       "    <tr>\n",
       "      <th>Eigenvector Centrality</th>\n",
       "      <td>0.950518</td>\n",
       "      <td>0.757339</td>\n",
       "      <td>0.085778</td>\n",
       "      <td>1.000000</td>\n",
       "      <td>0.081106</td>\n",
       "    </tr>\n",
       "    <tr>\n",
       "      <th>Density</th>\n",
       "      <td>-0.210090</td>\n",
       "      <td>-0.578941</td>\n",
       "      <td>-0.953970</td>\n",
       "      <td>0.081106</td>\n",
       "      <td>1.000000</td>\n",
       "    </tr>\n",
       "  </tbody>\n",
       "</table>\n",
       "</div>"
      ],
      "text/plain": [
       "                          Degree  Closeness  Betweeness  \\\n",
       "Degree                  1.000000   0.918559    0.388514   \n",
       "Closeness               0.918559   1.000000    0.713746   \n",
       "Betweeness              0.388514   0.713746    1.000000   \n",
       "Eigenvector Centrality  0.950518   0.757339    0.085778   \n",
       "Density                -0.210090  -0.578941   -0.953970   \n",
       "\n",
       "                        Eigenvector Centrality   Density  \n",
       "Degree                                0.950518 -0.210090  \n",
       "Closeness                             0.757339 -0.578941  \n",
       "Betweeness                            0.085778 -0.953970  \n",
       "Eigenvector Centrality                1.000000  0.081106  \n",
       "Density                               0.081106  1.000000  "
      ]
     },
     "execution_count": 62,
     "metadata": {},
     "output_type": "execute_result"
    }
   ],
   "source": [
    "a.corr()"
   ]
  },
  {
   "cell_type": "code",
   "execution_count": null,
   "id": "ae0be4b8-a3fd-488a-a586-1c8d90a1ddfe",
   "metadata": {},
   "outputs": [],
   "source": []
  }
 ],
 "metadata": {
  "editor": "DataLab",
  "kernelspec": {
   "display_name": "Python 3 (ipykernel)",
   "language": "python",
   "name": "python3"
  },
  "language_info": {
   "codemirror_mode": {
    "name": "ipython",
    "version": 3
   },
   "file_extension": ".py",
   "mimetype": "text/x-python",
   "name": "python",
   "nbconvert_exporter": "python",
   "pygments_lexer": "ipython3",
   "version": "3.12.1"
  }
 },
 "nbformat": 4,
 "nbformat_minor": 5
}
