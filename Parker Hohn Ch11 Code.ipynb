{
 "cells": [
  {
   "cell_type": "markdown",
   "id": "33f6af31-7e65-40b2-9c9e-8ad0a67f13ef",
   "metadata": {},
   "source": [
    "# Chapter 11: Neural Nets"
   ]
  },
  {
   "cell_type": "markdown",
   "id": "8a8b8117-d6a1-49cc-a302-08c34d8d2932",
   "metadata": {},
   "source": [
    "## Import Required Packages"
   ]
  },
  {
   "cell_type": "code",
   "execution_count": 1,
   "id": "dd35d2da-166a-4892-a2f4-0ef29d5191c1",
   "metadata": {
    "executionCancelledAt": null,
    "executionTime": 2821,
    "lastExecutedAt": 1730733708069,
    "lastExecutedByKernel": "13119ee3-e8e7-4965-a63b-7ffe28ec7ade",
    "lastScheduledRunId": null,
    "lastSuccessfullyExecutedCode": "# install dmba if needed\n\n!pip install dmba",
    "outputsMetadata": {
     "0": {
      "height": 549,
      "type": "stream"
     }
    }
   },
   "outputs": [
    {
     "name": "stdout",
     "output_type": "stream",
     "text": [
      "Requirement already satisfied: dmba in c:\\users\\orlan\\onedrive\\desktop\\lib\\site-packages (0.2.4)\n",
      "Requirement already satisfied: graphviz in c:\\users\\orlan\\onedrive\\desktop\\lib\\site-packages (from dmba) (0.20.3)\n",
      "Requirement already satisfied: matplotlib in c:\\users\\orlan\\onedrive\\desktop\\lib\\site-packages (from dmba) (3.8.3)\n",
      "Requirement already satisfied: numpy in c:\\users\\orlan\\onedrive\\desktop\\lib\\site-packages (from dmba) (1.26.4)\n",
      "Requirement already satisfied: pandas in c:\\users\\orlan\\onedrive\\desktop\\lib\\site-packages (from dmba) (2.2.1)\n",
      "Requirement already satisfied: scikit-learn in c:\\users\\orlan\\onedrive\\desktop\\lib\\site-packages (from dmba) (1.4.2)\n",
      "Requirement already satisfied: scipy in c:\\users\\orlan\\onedrive\\desktop\\lib\\site-packages (from dmba) (1.13.0)\n",
      "Requirement already satisfied: contourpy>=1.0.1 in c:\\users\\orlan\\onedrive\\desktop\\lib\\site-packages (from matplotlib->dmba) (1.2.0)\n",
      "Requirement already satisfied: cycler>=0.10 in c:\\users\\orlan\\onedrive\\desktop\\lib\\site-packages (from matplotlib->dmba) (0.12.1)\n",
      "Requirement already satisfied: fonttools>=4.22.0 in c:\\users\\orlan\\onedrive\\desktop\\lib\\site-packages (from matplotlib->dmba) (4.49.0)\n",
      "Requirement already satisfied: kiwisolver>=1.3.1 in c:\\users\\orlan\\onedrive\\desktop\\lib\\site-packages (from matplotlib->dmba) (1.4.5)\n",
      "Requirement already satisfied: packaging>=20.0 in c:\\users\\orlan\\onedrive\\desktop\\lib\\site-packages (from matplotlib->dmba) (23.2)\n",
      "Requirement already satisfied: pillow>=8 in c:\\users\\orlan\\onedrive\\desktop\\lib\\site-packages (from matplotlib->dmba) (10.2.0)\n",
      "Requirement already satisfied: pyparsing>=2.3.1 in c:\\users\\orlan\\onedrive\\desktop\\lib\\site-packages (from matplotlib->dmba) (3.1.2)\n",
      "Requirement already satisfied: python-dateutil>=2.7 in c:\\users\\orlan\\onedrive\\desktop\\lib\\site-packages (from matplotlib->dmba) (2.8.2)\n",
      "Requirement already satisfied: pytz>=2020.1 in c:\\users\\orlan\\onedrive\\desktop\\lib\\site-packages (from pandas->dmba) (2024.1)\n",
      "Requirement already satisfied: tzdata>=2022.7 in c:\\users\\orlan\\onedrive\\desktop\\lib\\site-packages (from pandas->dmba) (2024.1)\n",
      "Requirement already satisfied: joblib>=1.2.0 in c:\\users\\orlan\\onedrive\\desktop\\lib\\site-packages (from scikit-learn->dmba) (1.4.2)\n",
      "Requirement already satisfied: threadpoolctl>=2.0.0 in c:\\users\\orlan\\onedrive\\desktop\\lib\\site-packages (from scikit-learn->dmba) (3.5.0)\n",
      "Requirement already satisfied: six>=1.5 in c:\\users\\orlan\\onedrive\\desktop\\lib\\site-packages (from python-dateutil>=2.7->matplotlib->dmba) (1.16.0)\n"
     ]
    }
   ],
   "source": [
    "# install dmba if needed\n",
    "\n",
    "!pip install dmba"
   ]
  },
  {
   "cell_type": "code",
   "execution_count": 2,
   "id": "672e4bc1-c904-4176-bc4b-447837f8aae3",
   "metadata": {
    "executionCancelledAt": null,
    "executionTime": 56,
    "lastExecutedAt": 1730733708126,
    "lastExecutedByKernel": "13119ee3-e8e7-4965-a63b-7ffe28ec7ade",
    "lastScheduledRunId": null,
    "lastSuccessfullyExecutedCode": "import pandas as pd\nimport matplotlib.pyplot as plt\n%matplotlib inline\n\nfrom sklearn.model_selection import train_test_split\nfrom sklearn.neural_network import MLPClassifier\nfrom sklearn.metrics import roc_curve, auc\n\nfrom dmba import classificationSummary",
    "outputsMetadata": {
     "0": {
      "height": 38,
      "type": "stream"
     }
    }
   },
   "outputs": [],
   "source": [
    "import pandas as pd\n",
    "import matplotlib.pyplot as plt\n",
    "%matplotlib inline\n",
    "\n",
    "from sklearn.model_selection import train_test_split\n",
    "from sklearn.neural_network import MLPClassifier\n",
    "from sklearn.metrics import roc_curve, auc\n",
    "\n",
    "from dmba import classificationSummary"
   ]
  },
  {
   "cell_type": "markdown",
   "id": "f14101d6-c573-422e-bc39-00596d9e7ab9",
   "metadata": {},
   "source": [
    "## Accidentsnn Dataset"
   ]
  },
  {
   "cell_type": "markdown",
   "id": "cea3b1b7-9595-4b23-9050-34de7f780a35",
   "metadata": {},
   "source": [
    "### Data and preparation"
   ]
  },
  {
   "cell_type": "code",
   "execution_count": 3,
   "id": "89402437-7d35-44fc-97ce-2e50a45091e9",
   "metadata": {
    "executionCancelledAt": null,
    "executionTime": 50,
    "lastExecutedAt": 1730733708178,
    "lastExecutedByKernel": "13119ee3-e8e7-4965-a63b-7ffe28ec7ade",
    "lastScheduledRunId": null,
    "lastSuccessfullyExecutedCode": "# load the data, accidentsnn.csv\n# define accidents_df\n\naccidents_df = pd.read_csv('accidentsnn.csv')"
   },
   "outputs": [],
   "source": [
    "# load the data, accidentsnn.csv\n",
    "# define accidents_df\n",
    "\n",
    "accidents_df = pd.read_csv('accidentsnn.csv')"
   ]
  },
  {
   "cell_type": "code",
   "execution_count": 40,
   "id": "7f840875-31b4-4622-91ee-30dce25985ce",
   "metadata": {
    "executionCancelledAt": null,
    "executionTime": 65,
    "lastExecutedAt": 1730733708243,
    "lastExecutedByKernel": "13119ee3-e8e7-4965-a63b-7ffe28ec7ade",
    "lastScheduledRunId": null,
    "lastSuccessfullyExecutedCode": "# ALCHL_I: Alcohol involved = 1, not involved = 2\n# PROFIL_I_R: Road profile, 1= level, 0=other\n# SUR_COND: Surface conditions (1=dry, 2=wet, 3=snow/slush, 4=ice, 5=sand/dirt/oil, 8=other, 9=unknown)\n# VEH_INVL: Number of vehicles involved\n# MAX_SEV_IR: 0=no injury, 1=non-fatal inj., 2=fatal inj.\n# check info, then preview it\n\naccidents_df.head()",
    "outputsMetadata": {
     "0": {
      "height": 239,
      "type": "dataFrame"
     }
    }
   },
   "outputs": [],
   "source": [
    "# ALCHL_I: Alcohol involved = 1, not involved = 2\n",
    "# PROFIL_I_R: Road profile, 1= level, 0=other\n",
    "# SUR_COND: Surface conditions (1=dry, 2=wet, 3=snow/slush, 4=ice, 5=sand/dirt/oil, 8=other, 9=unknown)\n",
    "# VEH_INVL: Number of vehicles involved\n",
    "# MAX_SEV_IR: 0=no injury, 1=non-fatal inj., 2=fatal inj.\n",
    "# check info, then preview it\n",
    "\n"
   ]
  },
  {
   "cell_type": "code",
   "execution_count": 41,
   "id": "400562d6-bed3-4656-9231-933ae2332f78",
   "metadata": {
    "executionCancelledAt": null,
    "executionTime": 51,
    "lastExecutedAt": 1730733708294,
    "lastExecutedByKernel": "13119ee3-e8e7-4965-a63b-7ffe28ec7ade",
    "lastScheduledRunId": null,
    "lastSuccessfullyExecutedCode": "# convert to categorical variable for SUR_COND (get dummy variable later)\n# astype('category')\n\naccidents_df.SUR_COND = accidents_df.SUR_COND.astype('category')"
   },
   "outputs": [],
   "source": [
    "# convert to categorical variable for SUR_COND (get dummy variable later)\n",
    "# astype('category')\n",
    "\n"
   ]
  },
  {
   "cell_type": "code",
   "execution_count": 42,
   "id": "32827248-241e-454a-b7c7-83b3ffff06db",
   "metadata": {
    "executionCancelledAt": null,
    "executionTime": 53,
    "lastExecutedAt": 1730733708347,
    "lastExecutedByKernel": "13119ee3-e8e7-4965-a63b-7ffe28ec7ade",
    "lastScheduledRunId": null,
    "lastSuccessfullyExecutedCode": "# use value_counts() for SUR_COND\n\naccidents_df.SUR_COND.value_counts()",
    "outputsMetadata": {
     "0": {
      "height": 222,
      "type": "dataFrame"
     }
    }
   },
   "outputs": [],
   "source": [
    "# use value_counts() for SUR_COND\n",
    "\n"
   ]
  },
  {
   "cell_type": "code",
   "execution_count": 43,
   "id": "2330a214-58f7-4f71-b8eb-31c61469fba5",
   "metadata": {
    "executionCancelledAt": null,
    "executionTime": 55,
    "lastExecutedAt": 1730733708402,
    "lastExecutedByKernel": "13119ee3-e8e7-4965-a63b-7ffe28ec7ade",
    "lastScheduledRunId": null,
    "lastSuccessfullyExecutedCode": "accidents_df.MAX_SEV_IR.value_counts()",
    "outputsMetadata": {
     "0": {
      "height": 166,
      "type": "dataFrame"
     }
    }
   },
   "outputs": [],
   "source": [
    "# use value_counts() for MAX_SEV_IR\n",
    "\n"
   ]
  },
  {
   "cell_type": "code",
   "execution_count": 44,
   "id": "93b450cc-e33b-4958-98ad-559dcf2d371e",
   "metadata": {
    "executionCancelledAt": null,
    "executionTime": 54,
    "lastExecutedAt": 1730733708456,
    "lastExecutedByKernel": "13119ee3-e8e7-4965-a63b-7ffe28ec7ade",
    "lastScheduledRunId": null,
    "lastSuccessfullyExecutedCode": "# convert MAX_SEV_IR into binary classification, list comprehension\n# simplify the prediction, easier to draw roc curve later\n\naccidents_df.MAX_SEV_IR = [0 if i==0 else 1 for i in accidents_df.MAX_SEV_IR]"
   },
   "outputs": [],
   "source": [
    "# convert MAX_SEV_IR into binary classification, list comprehension\n",
    "# simplify the prediction, easier to draw roc curve later\n",
    "\n"
   ]
  },
  {
   "cell_type": "code",
   "execution_count": 45,
   "id": "c58a1c54-e2c1-4539-90f5-002f215746da",
   "metadata": {
    "executionCancelledAt": null,
    "executionTime": 50,
    "lastExecutedAt": 1730733708506,
    "lastExecutedByKernel": "13119ee3-e8e7-4965-a63b-7ffe28ec7ade",
    "lastScheduledRunId": null,
    "lastSuccessfullyExecutedCode": "# define x\n\nx = accidents_df.drop(columns=['MAX_SEV_IR'])\n# define y\n\ny= accidents_df.MAX_SEV_IR"
   },
   "outputs": [],
   "source": [
    "# define x\n",
    "\n",
    "\n",
    "# define y\n",
    "\n"
   ]
  },
  {
   "cell_type": "code",
   "execution_count": 46,
   "id": "f8a77b13-01a0-4131-ae16-bb6bab32c4b9",
   "metadata": {
    "executionCancelledAt": null,
    "executionTime": 52,
    "lastExecutedAt": 1730733708558,
    "lastExecutedByKernel": "13119ee3-e8e7-4965-a63b-7ffe28ec7ade",
    "lastScheduledRunId": null,
    "lastSuccessfullyExecutedCode": "# update x with pd.get_dummies()\n\nx = pd.get_dummies(x, dtype='int')",
    "outputsMetadata": {
     "0": {
      "height": 543,
      "type": "dataFrame"
     }
    }
   },
   "outputs": [],
   "source": [
    "# update x with pd.get_dummies()\n",
    "\n"
   ]
  },
  {
   "cell_type": "code",
   "execution_count": 47,
   "id": "ac5ecaec-a5bb-492d-8672-a0de7203fd3b",
   "metadata": {
    "executionCancelledAt": null,
    "executionTime": 52,
    "lastExecutedAt": 1730733708610,
    "lastExecutedByKernel": "13119ee3-e8e7-4965-a63b-7ffe28ec7ade",
    "lastScheduledRunId": null,
    "lastSuccessfullyExecutedCode": "# partition data\n# params: test_size=0.4, random_state=1\n\ntrain_x, valid_x, train_y, valid_y = train_test_split(x, y, test_size=0.4, random_state=1)"
   },
   "outputs": [],
   "source": [
    "# partition data\n",
    "# params: test_size=0.4, random_state=1\n",
    "\n"
   ]
  },
  {
   "cell_type": "markdown",
   "id": "df99eb59-9b72-45d2-994f-f3a5b7b81bcc",
   "metadata": {},
   "source": [
    "### Fit the neural network algorithm"
   ]
  },
  {
   "cell_type": "code",
   "execution_count": 48,
   "id": "a043ce94-73a7-40dc-9c2c-a2faedc64aa7",
   "metadata": {
    "executionCancelledAt": null,
    "executionTime": 57,
    "lastExecutedAt": 1730733708667,
    "lastExecutedByKernel": "13119ee3-e8e7-4965-a63b-7ffe28ec7ade",
    "lastScheduledRunId": null,
    "lastSuccessfullyExecutedCode": "# Multi-layer Perceptron classifier, MLPClassifier()\n# params: hidden_layer_sizes=(2), activation='logistic', solver='lbfgs', random_state=1\n# hidden_layer_sizes, train neural network with 2 hidden nodes (1 hidden layer)\n# activation, logistic function as the activation function for the hidden layer\n# solver, the solver for weight optimization\n# define clf\n\nclf = MLPClassifier(hidden_layer_sizes=(2), activation='logistic', solver='lbfgs', random_state=1)\n# fit with training dataset\nclf.fit(train_x, train_y)"
   },
   "outputs": [],
   "source": [
    "# Multi-layer Perceptron classifier, MLPClassifier()\n",
    "# params: hidden_layer_sizes=(2), activation='logistic', solver='lbfgs', random_state=1\n",
    "# hidden_layer_sizes, train neural network with 2 hidden nodes (1 hidden layer)\n",
    "# activation, logistic function as the activation function for the hidden layer\n",
    "# solver, the solver for weight optimization\n",
    "# define clf\n",
    "\n",
    "\n",
    "# fit with training dataset\n",
    "\n"
   ]
  },
  {
   "cell_type": "markdown",
   "id": "94baa6fd-7ea7-41b3-89c2-d6ad5d0aba23",
   "metadata": {},
   "source": [
    "### Performance evaluation"
   ]
  },
  {
   "cell_type": "code",
   "execution_count": 49,
   "id": "cf53345e-7b89-4cd4-aadc-aca33e5435ca",
   "metadata": {
    "executionCancelledAt": null,
    "executionTime": 51,
    "lastExecutedAt": 1730733708718,
    "lastExecutedByKernel": "13119ee3-e8e7-4965-a63b-7ffe28ec7ade",
    "lastScheduledRunId": null,
    "lastSuccessfullyExecutedCode": "# training performance\n# inputs: actual y, predicted y\n\nclassificationSummary(train_y, clf.predict(train_x))",
    "outputsMetadata": {
     "0": {
      "height": 143,
      "type": "stream"
     }
    }
   },
   "outputs": [],
   "source": [
    "# training performance\n",
    "# inputs: actual y, predicted y\n",
    "\n"
   ]
  },
  {
   "cell_type": "code",
   "execution_count": 50,
   "id": "b270e139-7f69-4d5e-9371-d5370f587cee",
   "metadata": {
    "executionCancelledAt": null,
    "executionTime": 52,
    "lastExecutedAt": 1730733708770,
    "lastExecutedByKernel": "13119ee3-e8e7-4965-a63b-7ffe28ec7ade",
    "lastScheduledRunId": null,
    "lastSuccessfullyExecutedCode": "# validation performance\n# inputs: actual y, predicted y\n\nclassificationSummary(valid_y, clf.predict(valid_x))",
    "outputsMetadata": {
     "0": {
      "height": 143,
      "type": "stream"
     }
    }
   },
   "outputs": [],
   "source": [
    "# validation performance\n",
    "# inputs: actual y, predicted y\n",
    "\n"
   ]
  },
  {
   "cell_type": "code",
   "execution_count": 51,
   "id": "ff48165f-3720-4ec6-9967-242831759a36",
   "metadata": {
    "executionCancelledAt": null,
    "executionTime": 51,
    "lastExecutedAt": 1730733708822,
    "lastExecutedByKernel": "13119ee3-e8e7-4965-a63b-7ffe28ec7ade",
    "lastScheduledRunId": null,
    "lastSuccessfullyExecutedCode": "# roc-auc graph, roc_curve(), training dataset\n# inputs: actual y and probability of predicted y (don't forget [:,1])\n# returning: fpr, tpr, _\n\nfpr, tpr, _ = roc_curve(train_y, clf.predict_proba(train_x)[:, 1])\n# define roc_auc, auc()\n# inputs: fpr and tpr\nroc_auc = auc(fpr, tpr)"
   },
   "outputs": [],
   "source": [
    "# roc-auc graph, roc_curve(), training dataset\n",
    "# inputs: actual y and probability of predicted y (don't forget [:,1])\n",
    "# returning: fpr, tpr, _\n",
    "\n",
    "\n",
    "# define roc_auc, auc()\n",
    "# inputs: fpr and tpr\n",
    "\n"
   ]
  },
  {
   "cell_type": "code",
   "execution_count": 56,
   "id": "fbeb86e2-39e3-4d60-af6b-df4015570f8e",
   "metadata": {
    "executionCancelledAt": null,
    "executionTime": 232,
    "lastExecutedAt": 1730733729390,
    "lastExecutedByKernel": "13119ee3-e8e7-4965-a63b-7ffe28ec7ade",
    "lastScheduledRunId": null,
    "lastSuccessfullyExecutedCode": "# plt.plot(); x and y: fpr and tpr\n# params: color='darkorange',label='ROC curve (area = %0.4f)' % roc_auc\n\nplt.plot(fpr, tpr, color='darkorange',label='ROC curve (area = %0.4f)' % roc_auc)\n# plt.plot(); x and y: [0, 1]\n# params: color='navy', linestyle='--'\n\nplt.plot([0, 1], [0, 1], color='navy', linestyle='--')\n# plt.xlabel() and plt.ylabel()\n# x: False Positive Rate (1 - Specificity)\n# y: True Positive Rate (Sensitivity)\n\nplt.xlabel('False Positive Rate (1 - Specificity)')\nplt.ylabel('True Positive Rate (Sensitivity)')\n# plt.legend() to show the label within the graph\nplt.legend()\nplt.show()"
   },
   "outputs": [],
   "source": [
    "# plt.plot(); x and y: fpr and tpr\n",
    "# params: color='darkorange',label='ROC curve (area = %0.4f)' % roc_auc\n",
    "\n",
    "\n",
    "# plt.plot(); x and y: [0, 1]\n",
    "# params: color='navy', linestyle='--'\n",
    "\n",
    "\n",
    "# plt.xlabel() and plt.ylabel()\n",
    "# x: False Positive Rate (1 - Specificity)\n",
    "# y: True Positive Rate (Sensitivity)\n",
    "\n",
    "\n",
    "# plt.legend() to show the label within the graph\n",
    "\n",
    "\n",
    "# plt.show()"
   ]
  },
  {
   "cell_type": "code",
   "execution_count": 57,
   "id": "20957eed-55a5-4be4-9c43-3cda468a74d7",
   "metadata": {
    "executionCancelledAt": null,
    "executionTime": 288,
    "lastExecutedAt": 1730733833392,
    "lastExecutedByKernel": "13119ee3-e8e7-4965-a63b-7ffe28ec7ade",
    "lastScheduledRunId": null,
    "lastSuccessfullyExecutedCode": "# roc-auc graph, roc_curve(), validation dataset\n# inputs: actual y and probability of predicted y (don't forget [:,1])\n# returning: fpr, tpr, _\nfpr, tpr, _ = roc_curve(valid_y, clf.predict_proba(valid_x)[:, 1])\n\n# define roc_auc, auc()\n# inputs: fpr and tpr\nroc_auc = auc(fpr, tpr)\n# plt.plot(); x and y: fpr and tpr\n# params: color='darkorange',label='ROC curve (area = %0.4f)' % roc_auc\nplt.plot(fpr, tpr, color='darkorange',label='ROC curve (area = %0.4f)' % roc_auc)\n\n# plt.plot(); x and y: [0, 1]\n# params: color='navy', linestyle='--'\nplt.plot([0, 1], [0, 1], color='navy', linestyle='--')\n\n\n# plt.xlabel() and plt.ylabel()\n# x: False Positive Rate (1 - Specificity)\n# y: True Positive Rate (Sensitivity)\nplt.xlabel('False Positive Rate (1 - Specificity)')\nplt.ylabel('True Positive Rate (Sensitivity)')\n\n# plt.legend() to show the label within the graph\n\nplt.legend()\n# plt.show()"
   },
   "outputs": [],
   "source": [
    "# roc-auc graph, roc_curve(), validation dataset\n",
    "# inputs: actual y and probability of predicted y (don't forget [:,1])\n",
    "# returning: fpr, tpr, _\n",
    "\n",
    "\n",
    "# define roc_auc, auc()\n",
    "# inputs: fpr and tpr\n",
    "\n",
    "\n",
    "# plt.plot(); x and y: fpr and tpr\n",
    "# params: color='darkorange',label='ROC curve (area = %0.4f)' % roc_auc\n",
    "\n",
    "\n",
    "# plt.plot(); x and y: [0, 1]\n",
    "# params: color='navy', linestyle='--'\n",
    "\n",
    "\n",
    "# plt.xlabel() and plt.ylabel()\n",
    "# x: False Positive Rate (1 - Specificity)\n",
    "# y: True Positive Rate (Sensitivity)\n",
    "\n",
    "\n",
    "# plt.legend() to show the label within the graph\n",
    "\n",
    "# plt.show()"
   ]
  }
 ],
 "metadata": {
  "editor": "DataLab",
  "kernelspec": {
   "display_name": "Python 3 (ipykernel)",
   "language": "python",
   "name": "python3"
  },
  "language_info": {
   "codemirror_mode": {
    "name": "ipython",
    "version": 3
   },
   "file_extension": ".py",
   "mimetype": "text/x-python",
   "name": "python",
   "nbconvert_exporter": "python",
   "pygments_lexer": "ipython3",
   "version": "3.12.1"
  }
 },
 "nbformat": 4,
 "nbformat_minor": 5
}
